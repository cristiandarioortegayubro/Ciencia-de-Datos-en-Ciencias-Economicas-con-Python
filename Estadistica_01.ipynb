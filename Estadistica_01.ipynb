{
  "nbformat": 4,
  "nbformat_minor": 0,
  "metadata": {
    "colab": {
      "name": "Estadistica 01.ipynb",
      "provenance": [],
      "collapsed_sections": [],
      "authorship_tag": "ABX9TyOg0bMUhPGxLwQSYmtsSjHe",
      "include_colab_link": true
    },
    "kernelspec": {
      "name": "python3",
      "display_name": "Python 3"
    }
  },
  "cells": [
    {
      "cell_type": "markdown",
      "metadata": {
        "id": "view-in-github",
        "colab_type": "text"
      },
      "source": [
        "<a href=\"https://colab.research.google.com/github/cristiandarioortegayubro/Ciencia-de-Datos-en-Ciencias-Economicas-con-Python/blob/master/Estadistica_01.ipynb\" target=\"_parent\"><img src=\"https://colab.research.google.com/assets/colab-badge.svg\" alt=\"Open In Colab\"/></a>"
      ]
    },
    {
      "cell_type": "markdown",
      "metadata": {
        "id": "SbiE1UxgWqCM"
      },
      "source": [
        "# **Pandas** - Estadistica Descriptiva - **01**"
      ]
    },
    {
      "cell_type": "markdown",
      "metadata": {
        "id": "WkiCGmilXTbQ"
      },
      "source": [
        "## **Código** - Limpieza y Transformación de Datos - **03**"
      ]
    },
    {
      "cell_type": "code",
      "metadata": {
        "id": "_cRLN8CEWjch",
        "outputId": "8df9940a-c44c-4443-9b98-0e285a4e232e",
        "colab": {
          "base_uri": "https://localhost:8080/",
          "height": 204
        }
      },
      "source": [
        "import numpy as np\n",
        "import pandas as pd\n",
        "import pandas_datareader as data\n",
        "BTC2019 = data.DataReader(\"BTC-USD\", start=\"2018-12-31\", end=\"2019-12-31\", data_source=\"yahoo\")\n",
        "df = pd.DataFrame(BTC2019)\n",
        "df.insert(0,column=\"Date\",value=df.index.values)\n",
        "df.reset_index(drop=True, inplace=True)\n",
        "df.insert(1,column=\"Day\",value=pd.DatetimeIndex(df['Date']).day_name())\n",
        "df.insert(2,column=\"Month\",value=pd.DatetimeIndex(df['Date']).month_name())\n",
        "df.rename(columns={'Adj Close':'Adj_Close'}, inplace=True)\n",
        "df['Pct_Change'] = df.Adj_Close.pct_change()*100\n",
        "df['Diff'] = df.Adj_Close.diff()\n",
        "df['Eval'] = df.eval('Close >= Open')\n",
        "df.dropna(how='any', inplace=True)\n",
        "pd.options.display.precision = 2\n",
        "df.drop(['High','Low','Open','Close','Volume'], axis=1, inplace=True)\n",
        "df.head()"
      ],
      "execution_count": 1,
      "outputs": [
        {
          "output_type": "execute_result",
          "data": {
            "text/html": [
              "<div>\n",
              "<style scoped>\n",
              "    .dataframe tbody tr th:only-of-type {\n",
              "        vertical-align: middle;\n",
              "    }\n",
              "\n",
              "    .dataframe tbody tr th {\n",
              "        vertical-align: top;\n",
              "    }\n",
              "\n",
              "    .dataframe thead th {\n",
              "        text-align: right;\n",
              "    }\n",
              "</style>\n",
              "<table border=\"1\" class=\"dataframe\">\n",
              "  <thead>\n",
              "    <tr style=\"text-align: right;\">\n",
              "      <th></th>\n",
              "      <th>Date</th>\n",
              "      <th>Day</th>\n",
              "      <th>Month</th>\n",
              "      <th>Adj_Close</th>\n",
              "      <th>Pct_Change</th>\n",
              "      <th>Diff</th>\n",
              "      <th>Eval</th>\n",
              "    </tr>\n",
              "  </thead>\n",
              "  <tbody>\n",
              "    <tr>\n",
              "      <th>1</th>\n",
              "      <td>2019-01-01</td>\n",
              "      <td>Tuesday</td>\n",
              "      <td>January</td>\n",
              "      <td>3843.52</td>\n",
              "      <td>2.69</td>\n",
              "      <td>100.82</td>\n",
              "      <td>True</td>\n",
              "    </tr>\n",
              "    <tr>\n",
              "      <th>2</th>\n",
              "      <td>2019-01-02</td>\n",
              "      <td>Wednesday</td>\n",
              "      <td>January</td>\n",
              "      <td>3943.41</td>\n",
              "      <td>2.60</td>\n",
              "      <td>99.89</td>\n",
              "      <td>True</td>\n",
              "    </tr>\n",
              "    <tr>\n",
              "      <th>3</th>\n",
              "      <td>2019-01-03</td>\n",
              "      <td>Thursday</td>\n",
              "      <td>January</td>\n",
              "      <td>3836.74</td>\n",
              "      <td>-2.70</td>\n",
              "      <td>-106.67</td>\n",
              "      <td>False</td>\n",
              "    </tr>\n",
              "    <tr>\n",
              "      <th>4</th>\n",
              "      <td>2019-01-04</td>\n",
              "      <td>Friday</td>\n",
              "      <td>January</td>\n",
              "      <td>3857.72</td>\n",
              "      <td>0.55</td>\n",
              "      <td>20.98</td>\n",
              "      <td>True</td>\n",
              "    </tr>\n",
              "    <tr>\n",
              "      <th>5</th>\n",
              "      <td>2019-01-05</td>\n",
              "      <td>Saturday</td>\n",
              "      <td>January</td>\n",
              "      <td>3845.19</td>\n",
              "      <td>-0.32</td>\n",
              "      <td>-12.52</td>\n",
              "      <td>False</td>\n",
              "    </tr>\n",
              "  </tbody>\n",
              "</table>\n",
              "</div>"
            ],
            "text/plain": [
              "        Date        Day    Month  Adj_Close  Pct_Change    Diff   Eval\n",
              "1 2019-01-01    Tuesday  January    3843.52        2.69  100.82   True\n",
              "2 2019-01-02  Wednesday  January    3943.41        2.60   99.89   True\n",
              "3 2019-01-03   Thursday  January    3836.74       -2.70 -106.67  False\n",
              "4 2019-01-04     Friday  January    3857.72        0.55   20.98   True\n",
              "5 2019-01-05   Saturday  January    3845.19       -0.32  -12.52  False"
            ]
          },
          "metadata": {
            "tags": []
          },
          "execution_count": 1
        }
      ]
    },
    {
      "cell_type": "markdown",
      "metadata": {
        "id": "L8Q0Dr38scEF"
      },
      "source": [
        "## Mis primeros cálculos estadisticos"
      ]
    },
    {
      "cell_type": "markdown",
      "metadata": {
        "id": "nQULadSTub1v"
      },
      "source": [
        "### Resumen"
      ]
    },
    {
      "cell_type": "code",
      "metadata": {
        "id": "tDA5tt9Es3hh",
        "outputId": "d5aad78d-ab6e-4136-c204-89f00e762269",
        "colab": {
          "base_uri": "https://localhost:8080/",
          "height": 297
        }
      },
      "source": [
        "df.describe()"
      ],
      "execution_count": 2,
      "outputs": [
        {
          "output_type": "execute_result",
          "data": {
            "text/html": [
              "<div>\n",
              "<style scoped>\n",
              "    .dataframe tbody tr th:only-of-type {\n",
              "        vertical-align: middle;\n",
              "    }\n",
              "\n",
              "    .dataframe tbody tr th {\n",
              "        vertical-align: top;\n",
              "    }\n",
              "\n",
              "    .dataframe thead th {\n",
              "        text-align: right;\n",
              "    }\n",
              "</style>\n",
              "<table border=\"1\" class=\"dataframe\">\n",
              "  <thead>\n",
              "    <tr style=\"text-align: right;\">\n",
              "      <th></th>\n",
              "      <th>Adj_Close</th>\n",
              "      <th>Pct_Change</th>\n",
              "      <th>Diff</th>\n",
              "    </tr>\n",
              "  </thead>\n",
              "  <tbody>\n",
              "    <tr>\n",
              "      <th>count</th>\n",
              "      <td>366.00</td>\n",
              "      <td>366.00</td>\n",
              "      <td>366.00</td>\n",
              "    </tr>\n",
              "    <tr>\n",
              "      <th>mean</th>\n",
              "      <td>7394.71</td>\n",
              "      <td>0.24</td>\n",
              "      <td>9.45</td>\n",
              "    </tr>\n",
              "    <tr>\n",
              "      <th>std</th>\n",
              "      <td>2635.04</td>\n",
              "      <td>3.56</td>\n",
              "      <td>316.00</td>\n",
              "    </tr>\n",
              "    <tr>\n",
              "      <th>min</th>\n",
              "      <td>3399.47</td>\n",
              "      <td>-14.09</td>\n",
              "      <td>-1833.42</td>\n",
              "    </tr>\n",
              "    <tr>\n",
              "      <th>25%</th>\n",
              "      <td>4890.61</td>\n",
              "      <td>-1.26</td>\n",
              "      <td>-89.23</td>\n",
              "    </tr>\n",
              "    <tr>\n",
              "      <th>50%</th>\n",
              "      <td>7823.13</td>\n",
              "      <td>0.12</td>\n",
              "      <td>5.26</td>\n",
              "    </tr>\n",
              "    <tr>\n",
              "      <th>75%</th>\n",
              "      <td>9545.58</td>\n",
              "      <td>1.52</td>\n",
              "      <td>102.44</td>\n",
              "    </tr>\n",
              "    <tr>\n",
              "      <th>max</th>\n",
              "      <td>13016.23</td>\n",
              "      <td>17.36</td>\n",
              "      <td>1225.31</td>\n",
              "    </tr>\n",
              "  </tbody>\n",
              "</table>\n",
              "</div>"
            ],
            "text/plain": [
              "       Adj_Close  Pct_Change     Diff\n",
              "count     366.00      366.00   366.00\n",
              "mean     7394.71        0.24     9.45\n",
              "std      2635.04        3.56   316.00\n",
              "min      3399.47      -14.09 -1833.42\n",
              "25%      4890.61       -1.26   -89.23\n",
              "50%      7823.13        0.12     5.26\n",
              "75%      9545.58        1.52   102.44\n",
              "max     13016.23       17.36  1225.31"
            ]
          },
          "metadata": {
            "tags": []
          },
          "execution_count": 2
        }
      ]
    },
    {
      "cell_type": "markdown",
      "metadata": {
        "id": "PTdzrP8TtPq2"
      },
      "source": [
        "**Los valores que se desplegan son:**\n",
        "+ **count:** cuenta de las observaciones del conjunto de datos.\n",
        "+ **mean:** representa la media de los valores de las observaciones.\n",
        "+ **std:** es el valor del error estándar.\n",
        "+ **min:** es el mínimo valor.\n",
        "+ **25%:** es el valor del primer cuartíl también definido Q1.\n",
        "+ **50%:** es el valor del segundo cuartíl también definido Q2, que es la mediana.\n",
        "+ **75%:** es el valor del tercer cuartíl también definido Q3.\n",
        "+ **max:** es el máximo valor."
      ]
    },
    {
      "cell_type": "markdown",
      "metadata": {
        "id": "hhpsiDTxuUjQ"
      },
      "source": [
        "### Máximo valor, Minimo valor y Rango"
      ]
    },
    {
      "cell_type": "code",
      "metadata": {
        "id": "D_sgU39gu4aQ",
        "outputId": "7761d4d0-0b22-452b-85a9-f8f245bd4eb2",
        "colab": {
          "base_uri": "https://localhost:8080/",
          "height": 34
        }
      },
      "source": [
        "df['Adj_Close'].max()"
      ],
      "execution_count": 11,
      "outputs": [
        {
          "output_type": "execute_result",
          "data": {
            "text/plain": [
              "13016.2314453125"
            ]
          },
          "metadata": {
            "tags": []
          },
          "execution_count": 11
        }
      ]
    },
    {
      "cell_type": "code",
      "metadata": {
        "id": "mgVbjqTwuYYZ",
        "outputId": "1787e9f6-fe84-4c57-ee3f-ea7e45840267",
        "colab": {
          "base_uri": "https://localhost:8080/",
          "height": 34
        }
      },
      "source": [
        "df['Adj_Close'].min()\n"
      ],
      "execution_count": 9,
      "outputs": [
        {
          "output_type": "execute_result",
          "data": {
            "text/plain": [
              "3399.4716796875"
            ]
          },
          "metadata": {
            "tags": []
          },
          "execution_count": 9
        }
      ]
    },
    {
      "cell_type": "code",
      "metadata": {
        "id": "gHj23Ng2w045",
        "outputId": "fc3a73a9-b403-400c-e9f3-aa5e90f2952d",
        "colab": {
          "base_uri": "https://localhost:8080/",
          "height": 34
        }
      },
      "source": [
        "rango = df['Adj_Close'].max() - df['Adj_Close'].min()\n",
        "rango"
      ],
      "execution_count": 12,
      "outputs": [
        {
          "output_type": "execute_result",
          "data": {
            "text/plain": [
              "9616.759765625"
            ]
          },
          "metadata": {
            "tags": []
          },
          "execution_count": 12
        }
      ]
    },
    {
      "cell_type": "markdown",
      "metadata": {
        "id": "71ga--jcxJ2c"
      },
      "source": [
        "### Media y Mediana\n"
      ]
    },
    {
      "cell_type": "code",
      "metadata": {
        "id": "NKYv6Y46xI06",
        "outputId": "8edcbe6f-58d6-4115-d291-84c1745b39aa",
        "colab": {
          "base_uri": "https://localhost:8080/",
          "height": 34
        }
      },
      "source": [
        "df['Adj_Close'].mean()"
      ],
      "execution_count": 13,
      "outputs": [
        {
          "output_type": "execute_result",
          "data": {
            "text/plain": [
              "7394.71329685899"
            ]
          },
          "metadata": {
            "tags": []
          },
          "execution_count": 13
        }
      ]
    },
    {
      "cell_type": "code",
      "metadata": {
        "id": "DsGpZsXHxftV",
        "outputId": "22234cca-852a-416f-dc6a-cc58a254a4bc",
        "colab": {
          "base_uri": "https://localhost:8080/",
          "height": 34
        }
      },
      "source": [
        "df['Adj_Close'].median()"
      ],
      "execution_count": 14,
      "outputs": [
        {
          "output_type": "execute_result",
          "data": {
            "text/plain": [
              "7823.12744140625"
            ]
          },
          "metadata": {
            "tags": []
          },
          "execution_count": 14
        }
      ]
    },
    {
      "cell_type": "markdown",
      "metadata": {
        "id": "lGXnbM7z1tQV"
      },
      "source": [
        "### Sesgo"
      ]
    },
    {
      "cell_type": "code",
      "metadata": {
        "id": "bH1MOvFG4JVa",
        "outputId": "ecb9d125-03af-41c8-f995-c45d0bc3d2cb",
        "colab": {
          "base_uri": "https://localhost:8080/",
          "height": 34
        }
      },
      "source": [
        "df['Adj_Close'].skew()"
      ],
      "execution_count": 22,
      "outputs": [
        {
          "output_type": "execute_result",
          "data": {
            "text/plain": [
              "-0.08511747960779144"
            ]
          },
          "metadata": {
            "tags": []
          },
          "execution_count": 22
        }
      ]
    },
    {
      "cell_type": "markdown",
      "metadata": {
        "id": "lT_ZrNR41EW-"
      },
      "source": [
        "### Desviación Estándar\n"
      ]
    },
    {
      "cell_type": "code",
      "metadata": {
        "id": "UPBitpFT09hw",
        "outputId": "4763abf6-eb34-4114-f531-c06720e4164e",
        "colab": {
          "base_uri": "https://localhost:8080/",
          "height": 34
        }
      },
      "source": [
        "df['Adj_Close'].std()"
      ],
      "execution_count": 20,
      "outputs": [
        {
          "output_type": "execute_result",
          "data": {
            "text/plain": [
              "2635.0377330599617"
            ]
          },
          "metadata": {
            "tags": []
          },
          "execution_count": 20
        }
      ]
    },
    {
      "cell_type": "markdown",
      "metadata": {
        "id": "FKG3nF5B4ZWV"
      },
      "source": [
        "### Cuantiles"
      ]
    },
    {
      "cell_type": "code",
      "metadata": {
        "id": "KBp7RzMw6mQB",
        "outputId": "7e657224-4f7a-42fd-f969-c5329b52b1c6",
        "colab": {
          "base_uri": "https://localhost:8080/",
          "height": 34
        }
      },
      "source": [
        "df['Adj_Close'].quantile(q=0.25)"
      ],
      "execution_count": 24,
      "outputs": [
        {
          "output_type": "execute_result",
          "data": {
            "text/plain": [
              "4890.608154296875"
            ]
          },
          "metadata": {
            "tags": []
          },
          "execution_count": 24
        }
      ]
    },
    {
      "cell_type": "code",
      "metadata": {
        "id": "oE3OkPNm64Ky",
        "outputId": "d8fe98db-7275-4cf7-bd49-500406e00d0a",
        "colab": {
          "base_uri": "https://localhost:8080/",
          "height": 34
        }
      },
      "source": [
        "df['Adj_Close'].quantile(q=0.5)"
      ],
      "execution_count": 25,
      "outputs": [
        {
          "output_type": "execute_result",
          "data": {
            "text/plain": [
              "7823.12744140625"
            ]
          },
          "metadata": {
            "tags": []
          },
          "execution_count": 25
        }
      ]
    },
    {
      "cell_type": "code",
      "metadata": {
        "id": "wYBEnO0H66tX",
        "outputId": "b229909f-bed2-444b-8347-ec27c55fae87",
        "colab": {
          "base_uri": "https://localhost:8080/",
          "height": 34
        }
      },
      "source": [
        "df['Adj_Close'].quantile(q=0.75)"
      ],
      "execution_count": 26,
      "outputs": [
        {
          "output_type": "execute_result",
          "data": {
            "text/plain": [
              "9545.576171875"
            ]
          },
          "metadata": {
            "tags": []
          },
          "execution_count": 26
        }
      ]
    },
    {
      "cell_type": "markdown",
      "metadata": {
        "id": "YqPTon1h1kaM"
      },
      "source": [
        "### Kurtosis"
      ]
    },
    {
      "cell_type": "code",
      "metadata": {
        "id": "EofGJu5k1faF",
        "outputId": "4340ead3-5d43-4f41-e134-d9369168611b",
        "colab": {
          "base_uri": "https://localhost:8080/",
          "height": 34
        }
      },
      "source": [
        "df['Adj_Close'].kurtosis()\n"
      ],
      "execution_count": 21,
      "outputs": [
        {
          "output_type": "execute_result",
          "data": {
            "text/plain": [
              "-1.220165403809925"
            ]
          },
          "metadata": {
            "tags": []
          },
          "execution_count": 21
        }
      ]
    },
    {
      "cell_type": "markdown",
      "metadata": {
        "id": "Z0mKiqPK0ExV"
      },
      "source": [
        "### Ranking"
      ]
    },
    {
      "cell_type": "code",
      "metadata": {
        "id": "0zIrLkiczgae",
        "outputId": "606de35f-3491-4c62-d540-86277a58bbbe",
        "colab": {
          "base_uri": "https://localhost:8080/",
          "height": 119
        }
      },
      "source": [
        "df['Adj_Close'].rank().head()"
      ],
      "execution_count": 18,
      "outputs": [
        {
          "output_type": "execute_result",
          "data": {
            "text/plain": [
              "1    43.0\n",
              "2    62.0\n",
              "3    42.0\n",
              "4    49.0\n",
              "5    44.0\n",
              "Name: Adj_Close, dtype: float64"
            ]
          },
          "metadata": {
            "tags": []
          },
          "execution_count": 18
        }
      ]
    },
    {
      "cell_type": "markdown",
      "metadata": {
        "id": "-Bpk9JlY0SSO"
      },
      "source": [
        "### Valores únicos"
      ]
    },
    {
      "cell_type": "code",
      "metadata": {
        "id": "tcGYS5p_0diW",
        "outputId": "3d0eb307-60c4-498a-8265-d020a55d3180",
        "colab": {
          "base_uri": "https://localhost:8080/",
          "height": 153
        }
      },
      "source": [
        "df.nunique()"
      ],
      "execution_count": 19,
      "outputs": [
        {
          "output_type": "execute_result",
          "data": {
            "text/plain": [
              "Date          365\n",
              "Day             7\n",
              "Month          12\n",
              "Adj_Close     366\n",
              "Pct_Change    366\n",
              "Diff          366\n",
              "Eval            2\n",
              "dtype: int64"
            ]
          },
          "metadata": {
            "tags": []
          },
          "execution_count": 19
        }
      ]
    }
  ]
}
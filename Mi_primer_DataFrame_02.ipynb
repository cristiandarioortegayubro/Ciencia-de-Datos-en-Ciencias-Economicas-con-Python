{
  "nbformat": 4,
  "nbformat_minor": 0,
  "metadata": {
    "colab": {
      "name": "Mi primer DataFrame 02.ipynb",
      "provenance": [],
      "authorship_tag": "ABX9TyNbl1fAK3YSCyDDNxXJgKog",
      "include_colab_link": true
    },
    "kernelspec": {
      "name": "python3",
      "display_name": "Python 3"
    }
  },
  "cells": [
    {
      "cell_type": "markdown",
      "metadata": {
        "id": "view-in-github",
        "colab_type": "text"
      },
      "source": [
        "<a href=\"https://colab.research.google.com/github/cristiandarioortegayubro/Ciencia-de-Datos-en-Ciencias-Economicas-con-Python/blob/master/Mi_primer_DataFrame_02.ipynb\" target=\"_parent\"><img src=\"https://colab.research.google.com/assets/colab-badge.svg\" alt=\"Open In Colab\"/></a>"
      ]
    },
    {
      "cell_type": "markdown",
      "metadata": {
        "id": "SbiE1UxgWqCM"
      },
      "source": [
        "# **Pandas** - Mi primer DataFrame - **02**"
      ]
    },
    {
      "cell_type": "markdown",
      "metadata": {
        "id": "WkiCGmilXTbQ"
      },
      "source": [
        "## **Código** - Mi primer DataFrame - **01**"
      ]
    },
    {
      "cell_type": "code",
      "metadata": {
        "id": "_cRLN8CEWjch",
        "outputId": "2378c568-d9f8-4c03-f959-ca66e7e93cd2",
        "colab": {
          "base_uri": "https://localhost:8080/",
          "height": 71
        }
      },
      "source": [
        "import numpy as np\n",
        "import pandas as pd\n",
        "import pandas_datareader as data\n",
        "BTC2019 = data.DataReader(\"BTC-USD\", start=\"2019-01-01\", end=\"2019-12-31\", data_source=\"yahoo\")\n",
        "df = pd.DataFrame(BTC2019)\n",
        "df.head()"
      ],
      "execution_count": null,
      "outputs": [
        {
          "output_type": "stream",
          "text": [
            "/usr/local/lib/python3.6/dist-packages/pandas_datareader/compat/__init__.py:7: FutureWarning: pandas.util.testing is deprecated. Use the functions in the public API at pandas.testing instead.\n",
            "  from pandas.util.testing import assert_frame_equal\n"
          ],
          "name": "stderr"
        }
      ]
    },
    {
      "cell_type": "markdown",
      "metadata": {
        "id": "_XxxQc5hKADQ"
      },
      "source": [
        "## Formatos del DataFrame"
      ]
    }
  ]
}
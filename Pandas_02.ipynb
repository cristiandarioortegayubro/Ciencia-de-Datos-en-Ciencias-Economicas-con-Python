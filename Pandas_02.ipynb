{
  "nbformat": 4,
  "nbformat_minor": 0,
  "metadata": {
    "colab": {
      "name": "Pandas 02.ipynb",
      "provenance": [],
      "collapsed_sections": [],
      "authorship_tag": "ABX9TyO53eIzjkUdZ1LJjV7cb4zL",
      "include_colab_link": true
    },
    "kernelspec": {
      "name": "python3",
      "display_name": "Python 3"
    }
  },
  "cells": [
    {
      "cell_type": "markdown",
      "metadata": {
        "id": "view-in-github",
        "colab_type": "text"
      },
      "source": [
        "<a href=\"https://colab.research.google.com/github/cristiandarioortegayubro/Ciencia-de-Datos-en-Ciencias-Economicas-con-Python/blob/master/Pandas_02.ipynb\" target=\"_parent\"><img src=\"https://colab.research.google.com/assets/colab-badge.svg\" alt=\"Open In Colab\"/></a>"
      ]
    },
    {
      "cell_type": "markdown",
      "metadata": {
        "id": "x2Ixyd2x4xTL",
        "colab_type": "text"
      },
      "source": [
        "# **Pandas 02** - ANÁLISIS DE DATOS - **INTRODUCCIÓN**"
      ]
    },
    {
      "cell_type": "code",
      "metadata": {
        "id": "t8a8Yex-yzDF",
        "colab_type": "code",
        "cellView": "form",
        "colab": {
          "base_uri": "https://localhost:8080/",
          "height": 235
        },
        "outputId": "0a73890c-f339-4cec-900f-4a5e18df17c0"
      },
      "source": [
        "#@markdown ##Clic para extraer, transformar y leer el DF Bitcoin 2019\n",
        "import numpy as np\n",
        "import pandas as pd\n",
        "import pandas_datareader as pdr\n",
        "BTC2019 = pdr.DataReader(\"BTC-USD\", start='2019-01-01', end='2019-12-31', data_source='yahoo')\n",
        "df = pd.DataFrame(BTC2019)\n",
        "df.head()"
      ],
      "execution_count": 4,
      "outputs": [
        {
          "output_type": "execute_result",
          "data": {
            "text/html": [
              "<div>\n",
              "<style scoped>\n",
              "    .dataframe tbody tr th:only-of-type {\n",
              "        vertical-align: middle;\n",
              "    }\n",
              "\n",
              "    .dataframe tbody tr th {\n",
              "        vertical-align: top;\n",
              "    }\n",
              "\n",
              "    .dataframe thead th {\n",
              "        text-align: right;\n",
              "    }\n",
              "</style>\n",
              "<table border=\"1\" class=\"dataframe\">\n",
              "  <thead>\n",
              "    <tr style=\"text-align: right;\">\n",
              "      <th></th>\n",
              "      <th>High</th>\n",
              "      <th>Low</th>\n",
              "      <th>Open</th>\n",
              "      <th>Close</th>\n",
              "      <th>Volume</th>\n",
              "      <th>Adj Close</th>\n",
              "    </tr>\n",
              "    <tr>\n",
              "      <th>Date</th>\n",
              "      <th></th>\n",
              "      <th></th>\n",
              "      <th></th>\n",
              "      <th></th>\n",
              "      <th></th>\n",
              "      <th></th>\n",
              "    </tr>\n",
              "  </thead>\n",
              "  <tbody>\n",
              "    <tr>\n",
              "      <th>2019-01-01</th>\n",
              "      <td>3850.913818</td>\n",
              "      <td>3707.231201</td>\n",
              "      <td>3746.713379</td>\n",
              "      <td>3843.520020</td>\n",
              "      <td>4324200990</td>\n",
              "      <td>3843.520020</td>\n",
              "    </tr>\n",
              "    <tr>\n",
              "      <th>2019-01-02</th>\n",
              "      <td>3947.981201</td>\n",
              "      <td>3817.409424</td>\n",
              "      <td>3849.216309</td>\n",
              "      <td>3943.409424</td>\n",
              "      <td>5244856835</td>\n",
              "      <td>3943.409424</td>\n",
              "    </tr>\n",
              "    <tr>\n",
              "      <th>2019-01-03</th>\n",
              "      <td>3935.685059</td>\n",
              "      <td>3826.222900</td>\n",
              "      <td>3931.048584</td>\n",
              "      <td>3836.741211</td>\n",
              "      <td>4530215218</td>\n",
              "      <td>3836.741211</td>\n",
              "    </tr>\n",
              "    <tr>\n",
              "      <th>2019-01-04</th>\n",
              "      <td>3865.934570</td>\n",
              "      <td>3783.853760</td>\n",
              "      <td>3832.040039</td>\n",
              "      <td>3857.717529</td>\n",
              "      <td>4847965467</td>\n",
              "      <td>3857.717529</td>\n",
              "    </tr>\n",
              "    <tr>\n",
              "      <th>2019-01-05</th>\n",
              "      <td>3904.903076</td>\n",
              "      <td>3836.900146</td>\n",
              "      <td>3851.973877</td>\n",
              "      <td>3845.194580</td>\n",
              "      <td>5137609823</td>\n",
              "      <td>3845.194580</td>\n",
              "    </tr>\n",
              "  </tbody>\n",
              "</table>\n",
              "</div>"
            ],
            "text/plain": [
              "                   High          Low  ...      Volume    Adj Close\n",
              "Date                                  ...                         \n",
              "2019-01-01  3850.913818  3707.231201  ...  4324200990  3843.520020\n",
              "2019-01-02  3947.981201  3817.409424  ...  5244856835  3943.409424\n",
              "2019-01-03  3935.685059  3826.222900  ...  4530215218  3836.741211\n",
              "2019-01-04  3865.934570  3783.853760  ...  4847965467  3857.717529\n",
              "2019-01-05  3904.903076  3836.900146  ...  5137609823  3845.194580\n",
              "\n",
              "[5 rows x 6 columns]"
            ]
          },
          "metadata": {
            "tags": []
          },
          "execution_count": 4
        }
      ]
    }
  ]
}
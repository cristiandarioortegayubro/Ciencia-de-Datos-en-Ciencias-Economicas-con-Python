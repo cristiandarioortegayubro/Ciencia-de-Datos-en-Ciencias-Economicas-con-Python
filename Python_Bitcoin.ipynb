{
  "nbformat": 4,
  "nbformat_minor": 0,
  "metadata": {
    "colab": {
      "name": "Python Bitcoin.ipynb",
      "provenance": [],
      "authorship_tag": "ABX9TyMUhjQzz8lycrVx3TKOOAhg",
      "include_colab_link": true
    },
    "kernelspec": {
      "name": "python3",
      "display_name": "Python 3"
    },
    "accelerator": "GPU"
  },
  "cells": [
    {
      "cell_type": "markdown",
      "metadata": {
        "id": "view-in-github",
        "colab_type": "text"
      },
      "source": [
        "<a href=\"https://colab.research.google.com/github/cristiandarioortegayubro/Ciencia-de-Datos-en-Ciencias-Economicas-con-Python/blob/master/Python_Bitcoin.ipynb\" target=\"_parent\"><img src=\"https://colab.research.google.com/assets/colab-badge.svg\" alt=\"Open In Colab\"/></a>"
      ]
    },
    {
      "cell_type": "markdown",
      "metadata": {
        "id": "HKNzIygwzY7Z",
        "colab_type": "text"
      },
      "source": [
        "# **Utilizando Python en análisis financiero de Bitcoin**\n"
      ]
    },
    {
      "cell_type": "markdown",
      "metadata": {
        "id": "rdwXlqui0KcX",
        "colab_type": "text"
      },
      "source": [
        "## Extracción de datos"
      ]
    },
    {
      "cell_type": "markdown",
      "metadata": {
        "id": "mUK7A0Xb0TeP",
        "colab_type": "text"
      },
      "source": [
        "### Carga de librerías necesarias para la extracción de los datos"
      ]
    },
    {
      "cell_type": "code",
      "metadata": {
        "id": "ad-_oet_0dKX",
        "colab_type": "code",
        "colab": {}
      },
      "source": [
        "import pandas as pd\n",
        "import numpy as np\n",
        "import pandas_datareader as pdr"
      ],
      "execution_count": null,
      "outputs": []
    },
    {
      "cell_type": "code",
      "metadata": {
        "id": "NDv1FYKW03d6",
        "colab_type": "code",
        "colab": {}
      },
      "source": [
        "BTC2019 = pdr.DataReader(\"BTC-USD\", start='2018-12-31', end='2019-12-29', data_source='yahoo')"
      ],
      "execution_count": 2,
      "outputs": []
    },
    {
      "cell_type": "markdown",
      "metadata": {
        "id": "G1Qsgu7N9ga1",
        "colab_type": "text"
      },
      "source": [
        "Se crea el objeto Bitcoin 2019 para guardar todos los datos de las cotizaciones del bitcoin entre el intervalo de tiempo que inicia el día 31 de diciembre del 2018 hasta el día 29 de diciembre del 2019."
      ]
    },
    {
      "cell_type": "markdown",
      "metadata": {
        "id": "JYuQyDsG1F7B",
        "colab_type": "text"
      },
      "source": [
        "### Creación del dataframe"
      ]
    },
    {
      "cell_type": "code",
      "metadata": {
        "id": "OWJzuvJc1BxK",
        "colab_type": "code",
        "colab": {
          "base_uri": "https://localhost:8080/",
          "height": 0
        },
        "outputId": "c3b55534-c5ca-468c-a4ce-9eb0e85b6507"
      },
      "source": [
        "df = pd.DataFrame(BTC2019)\n",
        "df"
      ],
      "execution_count": 3,
      "outputs": [
        {
          "output_type": "execute_result",
          "data": {
            "text/html": [
              "<div>\n",
              "<style scoped>\n",
              "    .dataframe tbody tr th:only-of-type {\n",
              "        vertical-align: middle;\n",
              "    }\n",
              "\n",
              "    .dataframe tbody tr th {\n",
              "        vertical-align: top;\n",
              "    }\n",
              "\n",
              "    .dataframe thead th {\n",
              "        text-align: right;\n",
              "    }\n",
              "</style>\n",
              "<table border=\"1\" class=\"dataframe\">\n",
              "  <thead>\n",
              "    <tr style=\"text-align: right;\">\n",
              "      <th></th>\n",
              "      <th>High</th>\n",
              "      <th>Low</th>\n",
              "      <th>Open</th>\n",
              "      <th>Close</th>\n",
              "      <th>Volume</th>\n",
              "      <th>Adj Close</th>\n",
              "    </tr>\n",
              "    <tr>\n",
              "      <th>Date</th>\n",
              "      <th></th>\n",
              "      <th></th>\n",
              "      <th></th>\n",
              "      <th></th>\n",
              "      <th></th>\n",
              "      <th></th>\n",
              "    </tr>\n",
              "  </thead>\n",
              "  <tbody>\n",
              "    <tr>\n",
              "      <th>2018-12-31</th>\n",
              "      <td>3868.742920</td>\n",
              "      <td>3725.867432</td>\n",
              "      <td>3866.839111</td>\n",
              "      <td>3742.700439</td>\n",
              "      <td>4661840806</td>\n",
              "      <td>3742.700439</td>\n",
              "    </tr>\n",
              "    <tr>\n",
              "      <th>2019-01-01</th>\n",
              "      <td>3850.913818</td>\n",
              "      <td>3707.231201</td>\n",
              "      <td>3746.713379</td>\n",
              "      <td>3843.520020</td>\n",
              "      <td>4324200990</td>\n",
              "      <td>3843.520020</td>\n",
              "    </tr>\n",
              "    <tr>\n",
              "      <th>2019-01-02</th>\n",
              "      <td>3947.981201</td>\n",
              "      <td>3817.409424</td>\n",
              "      <td>3849.216309</td>\n",
              "      <td>3943.409424</td>\n",
              "      <td>5244856835</td>\n",
              "      <td>3943.409424</td>\n",
              "    </tr>\n",
              "    <tr>\n",
              "      <th>2019-01-03</th>\n",
              "      <td>3935.685059</td>\n",
              "      <td>3826.222900</td>\n",
              "      <td>3931.048584</td>\n",
              "      <td>3836.741211</td>\n",
              "      <td>4530215218</td>\n",
              "      <td>3836.741211</td>\n",
              "    </tr>\n",
              "    <tr>\n",
              "      <th>2019-01-04</th>\n",
              "      <td>3865.934570</td>\n",
              "      <td>3783.853760</td>\n",
              "      <td>3832.040039</td>\n",
              "      <td>3857.717529</td>\n",
              "      <td>4847965467</td>\n",
              "      <td>3857.717529</td>\n",
              "    </tr>\n",
              "    <tr>\n",
              "      <th>...</th>\n",
              "      <td>...</td>\n",
              "      <td>...</td>\n",
              "      <td>...</td>\n",
              "      <td>...</td>\n",
              "      <td>...</td>\n",
              "      <td>...</td>\n",
              "    </tr>\n",
              "    <tr>\n",
              "      <th>2019-12-26</th>\n",
              "      <td>7388.302734</td>\n",
              "      <td>7200.386719</td>\n",
              "      <td>7274.799316</td>\n",
              "      <td>7238.966797</td>\n",
              "      <td>22787010034</td>\n",
              "      <td>7238.966797</td>\n",
              "    </tr>\n",
              "    <tr>\n",
              "      <th>2019-12-27</th>\n",
              "      <td>7363.529297</td>\n",
              "      <td>7189.934082</td>\n",
              "      <td>7238.141113</td>\n",
              "      <td>7290.088379</td>\n",
              "      <td>22777360995</td>\n",
              "      <td>7290.088379</td>\n",
              "    </tr>\n",
              "    <tr>\n",
              "      <th>2019-12-28</th>\n",
              "      <td>7399.041016</td>\n",
              "      <td>7286.905273</td>\n",
              "      <td>7289.031250</td>\n",
              "      <td>7317.990234</td>\n",
              "      <td>21365673026</td>\n",
              "      <td>7317.990234</td>\n",
              "    </tr>\n",
              "    <tr>\n",
              "      <th>2019-12-29</th>\n",
              "      <td>7513.948242</td>\n",
              "      <td>7279.865234</td>\n",
              "      <td>7317.647461</td>\n",
              "      <td>7422.652832</td>\n",
              "      <td>22445257701</td>\n",
              "      <td>7422.652832</td>\n",
              "    </tr>\n",
              "    <tr>\n",
              "      <th>2019-12-30</th>\n",
              "      <td>7454.824219</td>\n",
              "      <td>7276.308105</td>\n",
              "      <td>7420.272949</td>\n",
              "      <td>7292.995117</td>\n",
              "      <td>22874131671</td>\n",
              "      <td>7292.995117</td>\n",
              "    </tr>\n",
              "  </tbody>\n",
              "</table>\n",
              "<p>365 rows × 6 columns</p>\n",
              "</div>"
            ],
            "text/plain": [
              "                   High          Low  ...       Volume    Adj Close\n",
              "Date                                  ...                          \n",
              "2018-12-31  3868.742920  3725.867432  ...   4661840806  3742.700439\n",
              "2019-01-01  3850.913818  3707.231201  ...   4324200990  3843.520020\n",
              "2019-01-02  3947.981201  3817.409424  ...   5244856835  3943.409424\n",
              "2019-01-03  3935.685059  3826.222900  ...   4530215218  3836.741211\n",
              "2019-01-04  3865.934570  3783.853760  ...   4847965467  3857.717529\n",
              "...                 ...          ...  ...          ...          ...\n",
              "2019-12-26  7388.302734  7200.386719  ...  22787010034  7238.966797\n",
              "2019-12-27  7363.529297  7189.934082  ...  22777360995  7290.088379\n",
              "2019-12-28  7399.041016  7286.905273  ...  21365673026  7317.990234\n",
              "2019-12-29  7513.948242  7279.865234  ...  22445257701  7422.652832\n",
              "2019-12-30  7454.824219  7276.308105  ...  22874131671  7292.995117\n",
              "\n",
              "[365 rows x 6 columns]"
            ]
          },
          "metadata": {
            "tags": []
          },
          "execution_count": 3
        }
      ]
    },
    {
      "cell_type": "code",
      "metadata": {
        "id": "fuTTryJB3RBI",
        "colab_type": "code",
        "colab": {
          "base_uri": "https://localhost:8080/",
          "height": 0
        },
        "outputId": "59c2c4bc-382b-4996-df75-ed56621abf8c"
      },
      "source": [
        "df.columns"
      ],
      "execution_count": 4,
      "outputs": [
        {
          "output_type": "execute_result",
          "data": {
            "text/plain": [
              "Index(['High', 'Low', 'Open', 'Close', 'Volume', 'Adj Close'], dtype='object')"
            ]
          },
          "metadata": {
            "tags": []
          },
          "execution_count": 4
        }
      ]
    },
    {
      "cell_type": "markdown",
      "metadata": {
        "id": "fr2Rnui71xuR",
        "colab_type": "text"
      },
      "source": [
        "## Transformación de datos"
      ]
    },
    {
      "cell_type": "code",
      "metadata": {
        "id": "SPLNeLg81ONf",
        "colab_type": "code",
        "colab": {
          "base_uri": "https://localhost:8080/",
          "height": 419
        },
        "outputId": "d5f0901c-192d-48c2-a5ca-f22b50a77e80"
      },
      "source": [
        "df.insert(0,column='Date',value=df.index.values)\n",
        "df.reset_index(drop=True, inplace=True)\n",
        "df"
      ],
      "execution_count": 5,
      "outputs": [
        {
          "output_type": "execute_result",
          "data": {
            "text/html": [
              "<div>\n",
              "<style scoped>\n",
              "    .dataframe tbody tr th:only-of-type {\n",
              "        vertical-align: middle;\n",
              "    }\n",
              "\n",
              "    .dataframe tbody tr th {\n",
              "        vertical-align: top;\n",
              "    }\n",
              "\n",
              "    .dataframe thead th {\n",
              "        text-align: right;\n",
              "    }\n",
              "</style>\n",
              "<table border=\"1\" class=\"dataframe\">\n",
              "  <thead>\n",
              "    <tr style=\"text-align: right;\">\n",
              "      <th></th>\n",
              "      <th>Date</th>\n",
              "      <th>High</th>\n",
              "      <th>Low</th>\n",
              "      <th>Open</th>\n",
              "      <th>Close</th>\n",
              "      <th>Volume</th>\n",
              "      <th>Adj Close</th>\n",
              "    </tr>\n",
              "  </thead>\n",
              "  <tbody>\n",
              "    <tr>\n",
              "      <th>0</th>\n",
              "      <td>2018-12-31</td>\n",
              "      <td>3868.742920</td>\n",
              "      <td>3725.867432</td>\n",
              "      <td>3866.839111</td>\n",
              "      <td>3742.700439</td>\n",
              "      <td>4661840806</td>\n",
              "      <td>3742.700439</td>\n",
              "    </tr>\n",
              "    <tr>\n",
              "      <th>1</th>\n",
              "      <td>2019-01-01</td>\n",
              "      <td>3850.913818</td>\n",
              "      <td>3707.231201</td>\n",
              "      <td>3746.713379</td>\n",
              "      <td>3843.520020</td>\n",
              "      <td>4324200990</td>\n",
              "      <td>3843.520020</td>\n",
              "    </tr>\n",
              "    <tr>\n",
              "      <th>2</th>\n",
              "      <td>2019-01-02</td>\n",
              "      <td>3947.981201</td>\n",
              "      <td>3817.409424</td>\n",
              "      <td>3849.216309</td>\n",
              "      <td>3943.409424</td>\n",
              "      <td>5244856835</td>\n",
              "      <td>3943.409424</td>\n",
              "    </tr>\n",
              "    <tr>\n",
              "      <th>3</th>\n",
              "      <td>2019-01-03</td>\n",
              "      <td>3935.685059</td>\n",
              "      <td>3826.222900</td>\n",
              "      <td>3931.048584</td>\n",
              "      <td>3836.741211</td>\n",
              "      <td>4530215218</td>\n",
              "      <td>3836.741211</td>\n",
              "    </tr>\n",
              "    <tr>\n",
              "      <th>4</th>\n",
              "      <td>2019-01-04</td>\n",
              "      <td>3865.934570</td>\n",
              "      <td>3783.853760</td>\n",
              "      <td>3832.040039</td>\n",
              "      <td>3857.717529</td>\n",
              "      <td>4847965467</td>\n",
              "      <td>3857.717529</td>\n",
              "    </tr>\n",
              "    <tr>\n",
              "      <th>...</th>\n",
              "      <td>...</td>\n",
              "      <td>...</td>\n",
              "      <td>...</td>\n",
              "      <td>...</td>\n",
              "      <td>...</td>\n",
              "      <td>...</td>\n",
              "      <td>...</td>\n",
              "    </tr>\n",
              "    <tr>\n",
              "      <th>360</th>\n",
              "      <td>2019-12-26</td>\n",
              "      <td>7388.302734</td>\n",
              "      <td>7200.386719</td>\n",
              "      <td>7274.799316</td>\n",
              "      <td>7238.966797</td>\n",
              "      <td>22787010034</td>\n",
              "      <td>7238.966797</td>\n",
              "    </tr>\n",
              "    <tr>\n",
              "      <th>361</th>\n",
              "      <td>2019-12-27</td>\n",
              "      <td>7363.529297</td>\n",
              "      <td>7189.934082</td>\n",
              "      <td>7238.141113</td>\n",
              "      <td>7290.088379</td>\n",
              "      <td>22777360995</td>\n",
              "      <td>7290.088379</td>\n",
              "    </tr>\n",
              "    <tr>\n",
              "      <th>362</th>\n",
              "      <td>2019-12-28</td>\n",
              "      <td>7399.041016</td>\n",
              "      <td>7286.905273</td>\n",
              "      <td>7289.031250</td>\n",
              "      <td>7317.990234</td>\n",
              "      <td>21365673026</td>\n",
              "      <td>7317.990234</td>\n",
              "    </tr>\n",
              "    <tr>\n",
              "      <th>363</th>\n",
              "      <td>2019-12-29</td>\n",
              "      <td>7513.948242</td>\n",
              "      <td>7279.865234</td>\n",
              "      <td>7317.647461</td>\n",
              "      <td>7422.652832</td>\n",
              "      <td>22445257701</td>\n",
              "      <td>7422.652832</td>\n",
              "    </tr>\n",
              "    <tr>\n",
              "      <th>364</th>\n",
              "      <td>2019-12-30</td>\n",
              "      <td>7454.824219</td>\n",
              "      <td>7276.308105</td>\n",
              "      <td>7420.272949</td>\n",
              "      <td>7292.995117</td>\n",
              "      <td>22874131671</td>\n",
              "      <td>7292.995117</td>\n",
              "    </tr>\n",
              "  </tbody>\n",
              "</table>\n",
              "<p>365 rows × 7 columns</p>\n",
              "</div>"
            ],
            "text/plain": [
              "          Date         High          Low  ...        Close       Volume    Adj Close\n",
              "0   2018-12-31  3868.742920  3725.867432  ...  3742.700439   4661840806  3742.700439\n",
              "1   2019-01-01  3850.913818  3707.231201  ...  3843.520020   4324200990  3843.520020\n",
              "2   2019-01-02  3947.981201  3817.409424  ...  3943.409424   5244856835  3943.409424\n",
              "3   2019-01-03  3935.685059  3826.222900  ...  3836.741211   4530215218  3836.741211\n",
              "4   2019-01-04  3865.934570  3783.853760  ...  3857.717529   4847965467  3857.717529\n",
              "..         ...          ...          ...  ...          ...          ...          ...\n",
              "360 2019-12-26  7388.302734  7200.386719  ...  7238.966797  22787010034  7238.966797\n",
              "361 2019-12-27  7363.529297  7189.934082  ...  7290.088379  22777360995  7290.088379\n",
              "362 2019-12-28  7399.041016  7286.905273  ...  7317.990234  21365673026  7317.990234\n",
              "363 2019-12-29  7513.948242  7279.865234  ...  7422.652832  22445257701  7422.652832\n",
              "364 2019-12-30  7454.824219  7276.308105  ...  7292.995117  22874131671  7292.995117\n",
              "\n",
              "[365 rows x 7 columns]"
            ]
          },
          "metadata": {
            "tags": []
          },
          "execution_count": 5
        }
      ]
    },
    {
      "cell_type": "code",
      "metadata": {
        "id": "Q1MRzWRC3WQy",
        "colab_type": "code",
        "colab": {
          "base_uri": "https://localhost:8080/",
          "height": 34
        },
        "outputId": "673fecd5-8961-4ae7-8768-6ff58d64c31c"
      },
      "source": [
        "df.columns"
      ],
      "execution_count": 6,
      "outputs": [
        {
          "output_type": "execute_result",
          "data": {
            "text/plain": [
              "Index(['Date', 'High', 'Low', 'Open', 'Close', 'Volume', 'Adj Close'], dtype='object')"
            ]
          },
          "metadata": {
            "tags": []
          },
          "execution_count": 6
        }
      ]
    },
    {
      "cell_type": "code",
      "metadata": {
        "id": "QJ51Af3c3c5z",
        "colab_type": "code",
        "colab": {
          "base_uri": "https://localhost:8080/",
          "height": 419
        },
        "outputId": "7be8b3d4-8a30-44b7-a405-addcc5b12460"
      },
      "source": [
        "df.insert(1,column='Day',value=pd.DatetimeIndex(df['Date']).day_name())\n",
        "df"
      ],
      "execution_count": 7,
      "outputs": [
        {
          "output_type": "execute_result",
          "data": {
            "text/html": [
              "<div>\n",
              "<style scoped>\n",
              "    .dataframe tbody tr th:only-of-type {\n",
              "        vertical-align: middle;\n",
              "    }\n",
              "\n",
              "    .dataframe tbody tr th {\n",
              "        vertical-align: top;\n",
              "    }\n",
              "\n",
              "    .dataframe thead th {\n",
              "        text-align: right;\n",
              "    }\n",
              "</style>\n",
              "<table border=\"1\" class=\"dataframe\">\n",
              "  <thead>\n",
              "    <tr style=\"text-align: right;\">\n",
              "      <th></th>\n",
              "      <th>Date</th>\n",
              "      <th>Day</th>\n",
              "      <th>High</th>\n",
              "      <th>Low</th>\n",
              "      <th>Open</th>\n",
              "      <th>Close</th>\n",
              "      <th>Volume</th>\n",
              "      <th>Adj Close</th>\n",
              "    </tr>\n",
              "  </thead>\n",
              "  <tbody>\n",
              "    <tr>\n",
              "      <th>0</th>\n",
              "      <td>2018-12-31</td>\n",
              "      <td>Monday</td>\n",
              "      <td>3868.742920</td>\n",
              "      <td>3725.867432</td>\n",
              "      <td>3866.839111</td>\n",
              "      <td>3742.700439</td>\n",
              "      <td>4661840806</td>\n",
              "      <td>3742.700439</td>\n",
              "    </tr>\n",
              "    <tr>\n",
              "      <th>1</th>\n",
              "      <td>2019-01-01</td>\n",
              "      <td>Tuesday</td>\n",
              "      <td>3850.913818</td>\n",
              "      <td>3707.231201</td>\n",
              "      <td>3746.713379</td>\n",
              "      <td>3843.520020</td>\n",
              "      <td>4324200990</td>\n",
              "      <td>3843.520020</td>\n",
              "    </tr>\n",
              "    <tr>\n",
              "      <th>2</th>\n",
              "      <td>2019-01-02</td>\n",
              "      <td>Wednesday</td>\n",
              "      <td>3947.981201</td>\n",
              "      <td>3817.409424</td>\n",
              "      <td>3849.216309</td>\n",
              "      <td>3943.409424</td>\n",
              "      <td>5244856835</td>\n",
              "      <td>3943.409424</td>\n",
              "    </tr>\n",
              "    <tr>\n",
              "      <th>3</th>\n",
              "      <td>2019-01-03</td>\n",
              "      <td>Thursday</td>\n",
              "      <td>3935.685059</td>\n",
              "      <td>3826.222900</td>\n",
              "      <td>3931.048584</td>\n",
              "      <td>3836.741211</td>\n",
              "      <td>4530215218</td>\n",
              "      <td>3836.741211</td>\n",
              "    </tr>\n",
              "    <tr>\n",
              "      <th>4</th>\n",
              "      <td>2019-01-04</td>\n",
              "      <td>Friday</td>\n",
              "      <td>3865.934570</td>\n",
              "      <td>3783.853760</td>\n",
              "      <td>3832.040039</td>\n",
              "      <td>3857.717529</td>\n",
              "      <td>4847965467</td>\n",
              "      <td>3857.717529</td>\n",
              "    </tr>\n",
              "    <tr>\n",
              "      <th>...</th>\n",
              "      <td>...</td>\n",
              "      <td>...</td>\n",
              "      <td>...</td>\n",
              "      <td>...</td>\n",
              "      <td>...</td>\n",
              "      <td>...</td>\n",
              "      <td>...</td>\n",
              "      <td>...</td>\n",
              "    </tr>\n",
              "    <tr>\n",
              "      <th>360</th>\n",
              "      <td>2019-12-26</td>\n",
              "      <td>Thursday</td>\n",
              "      <td>7388.302734</td>\n",
              "      <td>7200.386719</td>\n",
              "      <td>7274.799316</td>\n",
              "      <td>7238.966797</td>\n",
              "      <td>22787010034</td>\n",
              "      <td>7238.966797</td>\n",
              "    </tr>\n",
              "    <tr>\n",
              "      <th>361</th>\n",
              "      <td>2019-12-27</td>\n",
              "      <td>Friday</td>\n",
              "      <td>7363.529297</td>\n",
              "      <td>7189.934082</td>\n",
              "      <td>7238.141113</td>\n",
              "      <td>7290.088379</td>\n",
              "      <td>22777360995</td>\n",
              "      <td>7290.088379</td>\n",
              "    </tr>\n",
              "    <tr>\n",
              "      <th>362</th>\n",
              "      <td>2019-12-28</td>\n",
              "      <td>Saturday</td>\n",
              "      <td>7399.041016</td>\n",
              "      <td>7286.905273</td>\n",
              "      <td>7289.031250</td>\n",
              "      <td>7317.990234</td>\n",
              "      <td>21365673026</td>\n",
              "      <td>7317.990234</td>\n",
              "    </tr>\n",
              "    <tr>\n",
              "      <th>363</th>\n",
              "      <td>2019-12-29</td>\n",
              "      <td>Sunday</td>\n",
              "      <td>7513.948242</td>\n",
              "      <td>7279.865234</td>\n",
              "      <td>7317.647461</td>\n",
              "      <td>7422.652832</td>\n",
              "      <td>22445257701</td>\n",
              "      <td>7422.652832</td>\n",
              "    </tr>\n",
              "    <tr>\n",
              "      <th>364</th>\n",
              "      <td>2019-12-30</td>\n",
              "      <td>Monday</td>\n",
              "      <td>7454.824219</td>\n",
              "      <td>7276.308105</td>\n",
              "      <td>7420.272949</td>\n",
              "      <td>7292.995117</td>\n",
              "      <td>22874131671</td>\n",
              "      <td>7292.995117</td>\n",
              "    </tr>\n",
              "  </tbody>\n",
              "</table>\n",
              "<p>365 rows × 8 columns</p>\n",
              "</div>"
            ],
            "text/plain": [
              "          Date        Day         High  ...        Close       Volume    Adj Close\n",
              "0   2018-12-31     Monday  3868.742920  ...  3742.700439   4661840806  3742.700439\n",
              "1   2019-01-01    Tuesday  3850.913818  ...  3843.520020   4324200990  3843.520020\n",
              "2   2019-01-02  Wednesday  3947.981201  ...  3943.409424   5244856835  3943.409424\n",
              "3   2019-01-03   Thursday  3935.685059  ...  3836.741211   4530215218  3836.741211\n",
              "4   2019-01-04     Friday  3865.934570  ...  3857.717529   4847965467  3857.717529\n",
              "..         ...        ...          ...  ...          ...          ...          ...\n",
              "360 2019-12-26   Thursday  7388.302734  ...  7238.966797  22787010034  7238.966797\n",
              "361 2019-12-27     Friday  7363.529297  ...  7290.088379  22777360995  7290.088379\n",
              "362 2019-12-28   Saturday  7399.041016  ...  7317.990234  21365673026  7317.990234\n",
              "363 2019-12-29     Sunday  7513.948242  ...  7422.652832  22445257701  7422.652832\n",
              "364 2019-12-30     Monday  7454.824219  ...  7292.995117  22874131671  7292.995117\n",
              "\n",
              "[365 rows x 8 columns]"
            ]
          },
          "metadata": {
            "tags": []
          },
          "execution_count": 7
        }
      ]
    },
    {
      "cell_type": "code",
      "metadata": {
        "id": "xrrdOaTE3oSE",
        "colab_type": "code",
        "colab": {
          "base_uri": "https://localhost:8080/",
          "height": 34
        },
        "outputId": "daffc6f1-d848-4763-972e-5197e5f5c9fa"
      },
      "source": [
        "df.columns"
      ],
      "execution_count": 8,
      "outputs": [
        {
          "output_type": "execute_result",
          "data": {
            "text/plain": [
              "Index(['Date', 'Day', 'High', 'Low', 'Open', 'Close', 'Volume', 'Adj Close'], dtype='object')"
            ]
          },
          "metadata": {
            "tags": []
          },
          "execution_count": 8
        }
      ]
    },
    {
      "cell_type": "code",
      "metadata": {
        "id": "eSNga-Zr30EL",
        "colab_type": "code",
        "colab": {
          "base_uri": "https://localhost:8080/",
          "height": 204
        },
        "outputId": "f4fc2ab0-9029-4dcd-a593-603396c3357a"
      },
      "source": [
        "df.rename(columns={'Adj Close':'AdjClose'}, inplace=True)\n",
        "df.head()"
      ],
      "execution_count": 9,
      "outputs": [
        {
          "output_type": "execute_result",
          "data": {
            "text/html": [
              "<div>\n",
              "<style scoped>\n",
              "    .dataframe tbody tr th:only-of-type {\n",
              "        vertical-align: middle;\n",
              "    }\n",
              "\n",
              "    .dataframe tbody tr th {\n",
              "        vertical-align: top;\n",
              "    }\n",
              "\n",
              "    .dataframe thead th {\n",
              "        text-align: right;\n",
              "    }\n",
              "</style>\n",
              "<table border=\"1\" class=\"dataframe\">\n",
              "  <thead>\n",
              "    <tr style=\"text-align: right;\">\n",
              "      <th></th>\n",
              "      <th>Date</th>\n",
              "      <th>Day</th>\n",
              "      <th>High</th>\n",
              "      <th>Low</th>\n",
              "      <th>Open</th>\n",
              "      <th>Close</th>\n",
              "      <th>Volume</th>\n",
              "      <th>AdjClose</th>\n",
              "    </tr>\n",
              "  </thead>\n",
              "  <tbody>\n",
              "    <tr>\n",
              "      <th>0</th>\n",
              "      <td>2018-12-31</td>\n",
              "      <td>Monday</td>\n",
              "      <td>3868.742920</td>\n",
              "      <td>3725.867432</td>\n",
              "      <td>3866.839111</td>\n",
              "      <td>3742.700439</td>\n",
              "      <td>4661840806</td>\n",
              "      <td>3742.700439</td>\n",
              "    </tr>\n",
              "    <tr>\n",
              "      <th>1</th>\n",
              "      <td>2019-01-01</td>\n",
              "      <td>Tuesday</td>\n",
              "      <td>3850.913818</td>\n",
              "      <td>3707.231201</td>\n",
              "      <td>3746.713379</td>\n",
              "      <td>3843.520020</td>\n",
              "      <td>4324200990</td>\n",
              "      <td>3843.520020</td>\n",
              "    </tr>\n",
              "    <tr>\n",
              "      <th>2</th>\n",
              "      <td>2019-01-02</td>\n",
              "      <td>Wednesday</td>\n",
              "      <td>3947.981201</td>\n",
              "      <td>3817.409424</td>\n",
              "      <td>3849.216309</td>\n",
              "      <td>3943.409424</td>\n",
              "      <td>5244856835</td>\n",
              "      <td>3943.409424</td>\n",
              "    </tr>\n",
              "    <tr>\n",
              "      <th>3</th>\n",
              "      <td>2019-01-03</td>\n",
              "      <td>Thursday</td>\n",
              "      <td>3935.685059</td>\n",
              "      <td>3826.222900</td>\n",
              "      <td>3931.048584</td>\n",
              "      <td>3836.741211</td>\n",
              "      <td>4530215218</td>\n",
              "      <td>3836.741211</td>\n",
              "    </tr>\n",
              "    <tr>\n",
              "      <th>4</th>\n",
              "      <td>2019-01-04</td>\n",
              "      <td>Friday</td>\n",
              "      <td>3865.934570</td>\n",
              "      <td>3783.853760</td>\n",
              "      <td>3832.040039</td>\n",
              "      <td>3857.717529</td>\n",
              "      <td>4847965467</td>\n",
              "      <td>3857.717529</td>\n",
              "    </tr>\n",
              "  </tbody>\n",
              "</table>\n",
              "</div>"
            ],
            "text/plain": [
              "        Date        Day         High  ...        Close      Volume     AdjClose\n",
              "0 2018-12-31     Monday  3868.742920  ...  3742.700439  4661840806  3742.700439\n",
              "1 2019-01-01    Tuesday  3850.913818  ...  3843.520020  4324200990  3843.520020\n",
              "2 2019-01-02  Wednesday  3947.981201  ...  3943.409424  5244856835  3943.409424\n",
              "3 2019-01-03   Thursday  3935.685059  ...  3836.741211  4530215218  3836.741211\n",
              "4 2019-01-04     Friday  3865.934570  ...  3857.717529  4847965467  3857.717529\n",
              "\n",
              "[5 rows x 8 columns]"
            ]
          },
          "metadata": {
            "tags": []
          },
          "execution_count": 9
        }
      ]
    },
    {
      "cell_type": "markdown",
      "metadata": {
        "id": "TzIsjmy475gH",
        "colab_type": "text"
      },
      "source": [
        "### Conversión de las cotizaciones diarias del Bitcoin"
      ]
    },
    {
      "cell_type": "code",
      "metadata": {
        "id": "uuEdGJKH3-hL",
        "colab_type": "code",
        "colab": {
          "base_uri": "https://localhost:8080/",
          "height": 204
        },
        "outputId": "e0eb39ec-cac8-4469-d0ab-4e78c189a5aa"
      },
      "source": [
        "df['Profitability'] = df.AdjClose.pct_change()\n",
        "df.head()"
      ],
      "execution_count": 10,
      "outputs": [
        {
          "output_type": "execute_result",
          "data": {
            "text/html": [
              "<div>\n",
              "<style scoped>\n",
              "    .dataframe tbody tr th:only-of-type {\n",
              "        vertical-align: middle;\n",
              "    }\n",
              "\n",
              "    .dataframe tbody tr th {\n",
              "        vertical-align: top;\n",
              "    }\n",
              "\n",
              "    .dataframe thead th {\n",
              "        text-align: right;\n",
              "    }\n",
              "</style>\n",
              "<table border=\"1\" class=\"dataframe\">\n",
              "  <thead>\n",
              "    <tr style=\"text-align: right;\">\n",
              "      <th></th>\n",
              "      <th>Date</th>\n",
              "      <th>Day</th>\n",
              "      <th>High</th>\n",
              "      <th>Low</th>\n",
              "      <th>Open</th>\n",
              "      <th>Close</th>\n",
              "      <th>Volume</th>\n",
              "      <th>AdjClose</th>\n",
              "      <th>Profitability</th>\n",
              "    </tr>\n",
              "  </thead>\n",
              "  <tbody>\n",
              "    <tr>\n",
              "      <th>0</th>\n",
              "      <td>2018-12-31</td>\n",
              "      <td>Monday</td>\n",
              "      <td>3868.742920</td>\n",
              "      <td>3725.867432</td>\n",
              "      <td>3866.839111</td>\n",
              "      <td>3742.700439</td>\n",
              "      <td>4661840806</td>\n",
              "      <td>3742.700439</td>\n",
              "      <td>NaN</td>\n",
              "    </tr>\n",
              "    <tr>\n",
              "      <th>1</th>\n",
              "      <td>2019-01-01</td>\n",
              "      <td>Tuesday</td>\n",
              "      <td>3850.913818</td>\n",
              "      <td>3707.231201</td>\n",
              "      <td>3746.713379</td>\n",
              "      <td>3843.520020</td>\n",
              "      <td>4324200990</td>\n",
              "      <td>3843.520020</td>\n",
              "      <td>0.026938</td>\n",
              "    </tr>\n",
              "    <tr>\n",
              "      <th>2</th>\n",
              "      <td>2019-01-02</td>\n",
              "      <td>Wednesday</td>\n",
              "      <td>3947.981201</td>\n",
              "      <td>3817.409424</td>\n",
              "      <td>3849.216309</td>\n",
              "      <td>3943.409424</td>\n",
              "      <td>5244856835</td>\n",
              "      <td>3943.409424</td>\n",
              "      <td>0.025989</td>\n",
              "    </tr>\n",
              "    <tr>\n",
              "      <th>3</th>\n",
              "      <td>2019-01-03</td>\n",
              "      <td>Thursday</td>\n",
              "      <td>3935.685059</td>\n",
              "      <td>3826.222900</td>\n",
              "      <td>3931.048584</td>\n",
              "      <td>3836.741211</td>\n",
              "      <td>4530215218</td>\n",
              "      <td>3836.741211</td>\n",
              "      <td>-0.027050</td>\n",
              "    </tr>\n",
              "    <tr>\n",
              "      <th>4</th>\n",
              "      <td>2019-01-04</td>\n",
              "      <td>Friday</td>\n",
              "      <td>3865.934570</td>\n",
              "      <td>3783.853760</td>\n",
              "      <td>3832.040039</td>\n",
              "      <td>3857.717529</td>\n",
              "      <td>4847965467</td>\n",
              "      <td>3857.717529</td>\n",
              "      <td>0.005467</td>\n",
              "    </tr>\n",
              "  </tbody>\n",
              "</table>\n",
              "</div>"
            ],
            "text/plain": [
              "        Date        Day         High  ...      Volume     AdjClose  Profitability\n",
              "0 2018-12-31     Monday  3868.742920  ...  4661840806  3742.700439            NaN\n",
              "1 2019-01-01    Tuesday  3850.913818  ...  4324200990  3843.520020       0.026938\n",
              "2 2019-01-02  Wednesday  3947.981201  ...  5244856835  3943.409424       0.025989\n",
              "3 2019-01-03   Thursday  3935.685059  ...  4530215218  3836.741211      -0.027050\n",
              "4 2019-01-04     Friday  3865.934570  ...  4847965467  3857.717529       0.005467\n",
              "\n",
              "[5 rows x 9 columns]"
            ]
          },
          "metadata": {
            "tags": []
          },
          "execution_count": 10
        }
      ]
    },
    {
      "cell_type": "markdown",
      "metadata": {
        "id": "BMXYFhmB63U9",
        "colab_type": "text"
      },
      "source": [
        "Las cotizaciones del Bitcoin generalmente no son estacionarias, y por lo tanto, la media y la varianza cambian con el tiempo. Esto también podría significar observar algunas tendencias o estacionalidad en la serie de cotizaciones.\n",
        "\n",
        "Por tal motivo al transformar las cotizaciones en rendimientos, se intenta hacer la serie de tiempo estacionaria. Se crea la columna con el cálculo de la rentabilidad simple."
      ]
    },
    {
      "cell_type": "markdown",
      "metadata": {
        "id": "Nw7-EcXQ8FQB",
        "colab_type": "text"
      },
      "source": [
        "### Limpieza del dataframe, eliminación de valores nulos"
      ]
    },
    {
      "cell_type": "code",
      "metadata": {
        "id": "iPiqiAv44ATY",
        "colab_type": "code",
        "colab": {
          "base_uri": "https://localhost:8080/",
          "height": 204
        },
        "outputId": "eaefeba3-56cc-4229-d8ae-32b8c988c44f"
      },
      "source": [
        "df.dropna(how='any', inplace=True)\n",
        "df.head()"
      ],
      "execution_count": 11,
      "outputs": [
        {
          "output_type": "execute_result",
          "data": {
            "text/html": [
              "<div>\n",
              "<style scoped>\n",
              "    .dataframe tbody tr th:only-of-type {\n",
              "        vertical-align: middle;\n",
              "    }\n",
              "\n",
              "    .dataframe tbody tr th {\n",
              "        vertical-align: top;\n",
              "    }\n",
              "\n",
              "    .dataframe thead th {\n",
              "        text-align: right;\n",
              "    }\n",
              "</style>\n",
              "<table border=\"1\" class=\"dataframe\">\n",
              "  <thead>\n",
              "    <tr style=\"text-align: right;\">\n",
              "      <th></th>\n",
              "      <th>Date</th>\n",
              "      <th>Day</th>\n",
              "      <th>High</th>\n",
              "      <th>Low</th>\n",
              "      <th>Open</th>\n",
              "      <th>Close</th>\n",
              "      <th>Volume</th>\n",
              "      <th>AdjClose</th>\n",
              "      <th>Profitability</th>\n",
              "    </tr>\n",
              "  </thead>\n",
              "  <tbody>\n",
              "    <tr>\n",
              "      <th>1</th>\n",
              "      <td>2019-01-01</td>\n",
              "      <td>Tuesday</td>\n",
              "      <td>3850.913818</td>\n",
              "      <td>3707.231201</td>\n",
              "      <td>3746.713379</td>\n",
              "      <td>3843.520020</td>\n",
              "      <td>4324200990</td>\n",
              "      <td>3843.520020</td>\n",
              "      <td>0.026938</td>\n",
              "    </tr>\n",
              "    <tr>\n",
              "      <th>2</th>\n",
              "      <td>2019-01-02</td>\n",
              "      <td>Wednesday</td>\n",
              "      <td>3947.981201</td>\n",
              "      <td>3817.409424</td>\n",
              "      <td>3849.216309</td>\n",
              "      <td>3943.409424</td>\n",
              "      <td>5244856835</td>\n",
              "      <td>3943.409424</td>\n",
              "      <td>0.025989</td>\n",
              "    </tr>\n",
              "    <tr>\n",
              "      <th>3</th>\n",
              "      <td>2019-01-03</td>\n",
              "      <td>Thursday</td>\n",
              "      <td>3935.685059</td>\n",
              "      <td>3826.222900</td>\n",
              "      <td>3931.048584</td>\n",
              "      <td>3836.741211</td>\n",
              "      <td>4530215218</td>\n",
              "      <td>3836.741211</td>\n",
              "      <td>-0.027050</td>\n",
              "    </tr>\n",
              "    <tr>\n",
              "      <th>4</th>\n",
              "      <td>2019-01-04</td>\n",
              "      <td>Friday</td>\n",
              "      <td>3865.934570</td>\n",
              "      <td>3783.853760</td>\n",
              "      <td>3832.040039</td>\n",
              "      <td>3857.717529</td>\n",
              "      <td>4847965467</td>\n",
              "      <td>3857.717529</td>\n",
              "      <td>0.005467</td>\n",
              "    </tr>\n",
              "    <tr>\n",
              "      <th>5</th>\n",
              "      <td>2019-01-05</td>\n",
              "      <td>Saturday</td>\n",
              "      <td>3904.903076</td>\n",
              "      <td>3836.900146</td>\n",
              "      <td>3851.973877</td>\n",
              "      <td>3845.194580</td>\n",
              "      <td>5137609823</td>\n",
              "      <td>3845.194580</td>\n",
              "      <td>-0.003246</td>\n",
              "    </tr>\n",
              "  </tbody>\n",
              "</table>\n",
              "</div>"
            ],
            "text/plain": [
              "        Date        Day         High  ...      Volume     AdjClose  Profitability\n",
              "1 2019-01-01    Tuesday  3850.913818  ...  4324200990  3843.520020       0.026938\n",
              "2 2019-01-02  Wednesday  3947.981201  ...  5244856835  3943.409424       0.025989\n",
              "3 2019-01-03   Thursday  3935.685059  ...  4530215218  3836.741211      -0.027050\n",
              "4 2019-01-04     Friday  3865.934570  ...  4847965467  3857.717529       0.005467\n",
              "5 2019-01-05   Saturday  3904.903076  ...  5137609823  3845.194580      -0.003246\n",
              "\n",
              "[5 rows x 9 columns]"
            ]
          },
          "metadata": {
            "tags": []
          },
          "execution_count": 11
        }
      ]
    },
    {
      "cell_type": "markdown",
      "metadata": {
        "id": "Be0z_uam-Q71",
        "colab_type": "text"
      },
      "source": [
        "## Visualización de la serie de tiempo"
      ]
    },
    {
      "cell_type": "code",
      "metadata": {
        "id": "cnVHsTuw-Xt9",
        "colab_type": "code",
        "colab": {}
      },
      "source": [
        "import matplotlib.pyplot as plt"
      ],
      "execution_count": 12,
      "outputs": []
    },
    {
      "cell_type": "code",
      "metadata": {
        "id": "L2wlJlZo-pjX",
        "colab_type": "code",
        "colab": {
          "base_uri": "https://localhost:8080/",
          "height": 622
        },
        "outputId": "a3ed2399-afb5-485a-cddb-09d3de865eb7"
      },
      "source": [
        "plt.style.use('bmh')\n",
        "fig, ax = plt.subplots(2, 1, figsize=(18, 10), sharex=True)\n",
        "\n",
        "df.AdjClose.plot(ax=ax[0], color=['darkblue'])\n",
        "ax[0].set(title = 'Bitcoin 2019 Serie de Tiempo', ylabel = 'Cotizaciones ($)')\n",
        "ax[0].legend(loc='upper left')\n",
        "   \n",
        "df.Profitability.plot(ax=ax[1], color=['darkblue'])\n",
        "ax[1].set(ylabel = 'Rentabilidad Simple (%)')\n",
        "ax[1].legend(loc='upper left')"
      ],
      "execution_count": 13,
      "outputs": [
        {
          "output_type": "execute_result",
          "data": {
            "text/plain": [
              "<matplotlib.legend.Legend at 0x7fce87b77588>"
            ]
          },
          "metadata": {
            "tags": []
          },
          "execution_count": 13
        },
        {
          "output_type": "display_data",
          "data": {
            "image/png": "[encoded data removed]",
            "text/plain": [
              "<Figure size 1296x720 with 2 Axes>"
            ]
          },
          "metadata": {
            "tags": [],
            "needs_background": "light"
          }
        }
      ]
    }
  ]
}
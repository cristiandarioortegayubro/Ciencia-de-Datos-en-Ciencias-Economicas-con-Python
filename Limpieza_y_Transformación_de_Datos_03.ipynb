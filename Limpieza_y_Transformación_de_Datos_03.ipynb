{
  "nbformat": 4,
  "nbformat_minor": 0,
  "metadata": {
    "colab": {
      "name": "Limpieza y Transformación de Datos 03.ipynb",
      "provenance": [],
      "authorship_tag": "ABX9TyPPFgSsEJ1Ec5abmJo7Z/Ap",
      "include_colab_link": true
    },
    "kernelspec": {
      "name": "python3",
      "display_name": "Python 3"
    }
  },
  "cells": [
    {
      "cell_type": "markdown",
      "metadata": {
        "id": "view-in-github",
        "colab_type": "text"
      },
      "source": [
        "<a href=\"https://colab.research.google.com/github/cristiandarioortegayubro/Ciencia-de-Datos-en-Ciencias-Economicas-con-Python/blob/master/Limpieza_y_Transformaci%C3%B3n_de_Datos_03.ipynb\" target=\"_parent\"><img src=\"https://colab.research.google.com/assets/colab-badge.svg\" alt=\"Open In Colab\"/></a>"
      ]
    },
    {
      "cell_type": "markdown",
      "metadata": {
        "id": "SbiE1UxgWqCM"
      },
      "source": [
        "# **Pandas** - Limpieza y Transformación de Datos - **03**"
      ]
    },
    {
      "cell_type": "markdown",
      "metadata": {
        "id": "WkiCGmilXTbQ"
      },
      "source": [
        "## **Código** - Limpieza y Transformación de Datos - **02**"
      ]
    },
    {
      "cell_type": "code",
      "metadata": {
        "id": "_cRLN8CEWjch",
        "outputId": "e43c29b8-1aa3-4b2e-d650-b83dd98b4849",
        "colab": {
          "base_uri": "https://localhost:8080/",
          "height": 204
        }
      },
      "source": [
        "import numpy as np\n",
        "import pandas as pd\n",
        "import pandas_datareader as data\n",
        "BTC2019 = data.DataReader(\"BTC-USD\", start=\"2018-12-31\", end=\"2019-12-31\", data_source=\"yahoo\")\n",
        "df = pd.DataFrame(BTC2019)\n",
        "df.insert(0,column=\"Date\",value=df.index.values)\n",
        "df.reset_index(drop=True, inplace=True)\n",
        "df.insert(1,column=\"Day\",value=pd.DatetimeIndex(df['Date']).day_name())\n",
        "df.insert(2,column=\"Month\",value=pd.DatetimeIndex(df['Date']).month_name())\n",
        "df.rename(columns={'Adj Close':'Adj_Close'}, inplace=True)\n",
        "df['Pct_Change'] = df.Adj_Close.pct_change()*100\n",
        "df['Diff'] = df.Adj_Close.diff()\n",
        "df['Eval'] = df.eval('Close >= Open')\n",
        "df.dropna(how='any', inplace=True)\n",
        "pd.options.display.precision = 2\n",
        "df.head()"
      ],
      "execution_count": 1,
      "outputs": [
        {
          "output_type": "execute_result",
          "data": {
            "text/html": [
              "<div>\n",
              "<style scoped>\n",
              "    .dataframe tbody tr th:only-of-type {\n",
              "        vertical-align: middle;\n",
              "    }\n",
              "\n",
              "    .dataframe tbody tr th {\n",
              "        vertical-align: top;\n",
              "    }\n",
              "\n",
              "    .dataframe thead th {\n",
              "        text-align: right;\n",
              "    }\n",
              "</style>\n",
              "<table border=\"1\" class=\"dataframe\">\n",
              "  <thead>\n",
              "    <tr style=\"text-align: right;\">\n",
              "      <th></th>\n",
              "      <th>Date</th>\n",
              "      <th>Day</th>\n",
              "      <th>Month</th>\n",
              "      <th>High</th>\n",
              "      <th>Low</th>\n",
              "      <th>Open</th>\n",
              "      <th>Close</th>\n",
              "      <th>Volume</th>\n",
              "      <th>Adj_Close</th>\n",
              "      <th>Pct_Change</th>\n",
              "      <th>Diff</th>\n",
              "      <th>Eval</th>\n",
              "    </tr>\n",
              "  </thead>\n",
              "  <tbody>\n",
              "    <tr>\n",
              "      <th>1</th>\n",
              "      <td>2019-01-01</td>\n",
              "      <td>Tuesday</td>\n",
              "      <td>January</td>\n",
              "      <td>3850.91</td>\n",
              "      <td>3707.23</td>\n",
              "      <td>3746.71</td>\n",
              "      <td>3843.52</td>\n",
              "      <td>4324200990</td>\n",
              "      <td>3843.52</td>\n",
              "      <td>2.69</td>\n",
              "      <td>100.82</td>\n",
              "      <td>True</td>\n",
              "    </tr>\n",
              "    <tr>\n",
              "      <th>2</th>\n",
              "      <td>2019-01-02</td>\n",
              "      <td>Wednesday</td>\n",
              "      <td>January</td>\n",
              "      <td>3947.98</td>\n",
              "      <td>3817.41</td>\n",
              "      <td>3849.22</td>\n",
              "      <td>3943.41</td>\n",
              "      <td>5244856835</td>\n",
              "      <td>3943.41</td>\n",
              "      <td>2.60</td>\n",
              "      <td>99.89</td>\n",
              "      <td>True</td>\n",
              "    </tr>\n",
              "    <tr>\n",
              "      <th>3</th>\n",
              "      <td>2019-01-03</td>\n",
              "      <td>Thursday</td>\n",
              "      <td>January</td>\n",
              "      <td>3935.69</td>\n",
              "      <td>3826.22</td>\n",
              "      <td>3931.05</td>\n",
              "      <td>3836.74</td>\n",
              "      <td>4530215218</td>\n",
              "      <td>3836.74</td>\n",
              "      <td>-2.70</td>\n",
              "      <td>-106.67</td>\n",
              "      <td>False</td>\n",
              "    </tr>\n",
              "    <tr>\n",
              "      <th>4</th>\n",
              "      <td>2019-01-04</td>\n",
              "      <td>Friday</td>\n",
              "      <td>January</td>\n",
              "      <td>3865.93</td>\n",
              "      <td>3783.85</td>\n",
              "      <td>3832.04</td>\n",
              "      <td>3857.72</td>\n",
              "      <td>4847965467</td>\n",
              "      <td>3857.72</td>\n",
              "      <td>0.55</td>\n",
              "      <td>20.98</td>\n",
              "      <td>True</td>\n",
              "    </tr>\n",
              "    <tr>\n",
              "      <th>5</th>\n",
              "      <td>2019-01-05</td>\n",
              "      <td>Saturday</td>\n",
              "      <td>January</td>\n",
              "      <td>3904.90</td>\n",
              "      <td>3836.90</td>\n",
              "      <td>3851.97</td>\n",
              "      <td>3845.19</td>\n",
              "      <td>5137609823</td>\n",
              "      <td>3845.19</td>\n",
              "      <td>-0.32</td>\n",
              "      <td>-12.52</td>\n",
              "      <td>False</td>\n",
              "    </tr>\n",
              "  </tbody>\n",
              "</table>\n",
              "</div>"
            ],
            "text/plain": [
              "        Date        Day    Month     High  ...  Adj_Close  Pct_Change    Diff   Eval\n",
              "1 2019-01-01    Tuesday  January  3850.91  ...    3843.52        2.69  100.82   True\n",
              "2 2019-01-02  Wednesday  January  3947.98  ...    3943.41        2.60   99.89   True\n",
              "3 2019-01-03   Thursday  January  3935.69  ...    3836.74       -2.70 -106.67  False\n",
              "4 2019-01-04     Friday  January  3865.93  ...    3857.72        0.55   20.98   True\n",
              "5 2019-01-05   Saturday  January  3904.90  ...    3845.19       -0.32  -12.52  False\n",
              "\n",
              "[5 rows x 12 columns]"
            ]
          },
          "metadata": {
            "tags": []
          },
          "execution_count": 1
        }
      ]
    },
    {
      "cell_type": "markdown",
      "metadata": {
        "id": "3dls21Ipze1j"
      },
      "source": [
        "### Eliminando columnas"
      ]
    },
    {
      "cell_type": "code",
      "metadata": {
        "id": "ye2Qz3FgzvUK",
        "outputId": "2e6586da-8557-4578-9277-dfc37a70a2d1",
        "colab": {
          "base_uri": "https://localhost:8080/",
          "height": 204
        }
      },
      "source": [
        "df.drop(['High','Low','Open','Close','Volume'], axis=1, inplace=True)\n",
        "df.head()"
      ],
      "execution_count": 2,
      "outputs": [
        {
          "output_type": "execute_result",
          "data": {
            "text/html": [
              "<div>\n",
              "<style scoped>\n",
              "    .dataframe tbody tr th:only-of-type {\n",
              "        vertical-align: middle;\n",
              "    }\n",
              "\n",
              "    .dataframe tbody tr th {\n",
              "        vertical-align: top;\n",
              "    }\n",
              "\n",
              "    .dataframe thead th {\n",
              "        text-align: right;\n",
              "    }\n",
              "</style>\n",
              "<table border=\"1\" class=\"dataframe\">\n",
              "  <thead>\n",
              "    <tr style=\"text-align: right;\">\n",
              "      <th></th>\n",
              "      <th>Date</th>\n",
              "      <th>Day</th>\n",
              "      <th>Month</th>\n",
              "      <th>Adj_Close</th>\n",
              "      <th>Pct_Change</th>\n",
              "      <th>Diff</th>\n",
              "      <th>Eval</th>\n",
              "    </tr>\n",
              "  </thead>\n",
              "  <tbody>\n",
              "    <tr>\n",
              "      <th>1</th>\n",
              "      <td>2019-01-01</td>\n",
              "      <td>Tuesday</td>\n",
              "      <td>January</td>\n",
              "      <td>3843.52</td>\n",
              "      <td>2.69</td>\n",
              "      <td>100.82</td>\n",
              "      <td>True</td>\n",
              "    </tr>\n",
              "    <tr>\n",
              "      <th>2</th>\n",
              "      <td>2019-01-02</td>\n",
              "      <td>Wednesday</td>\n",
              "      <td>January</td>\n",
              "      <td>3943.41</td>\n",
              "      <td>2.60</td>\n",
              "      <td>99.89</td>\n",
              "      <td>True</td>\n",
              "    </tr>\n",
              "    <tr>\n",
              "      <th>3</th>\n",
              "      <td>2019-01-03</td>\n",
              "      <td>Thursday</td>\n",
              "      <td>January</td>\n",
              "      <td>3836.74</td>\n",
              "      <td>-2.70</td>\n",
              "      <td>-106.67</td>\n",
              "      <td>False</td>\n",
              "    </tr>\n",
              "    <tr>\n",
              "      <th>4</th>\n",
              "      <td>2019-01-04</td>\n",
              "      <td>Friday</td>\n",
              "      <td>January</td>\n",
              "      <td>3857.72</td>\n",
              "      <td>0.55</td>\n",
              "      <td>20.98</td>\n",
              "      <td>True</td>\n",
              "    </tr>\n",
              "    <tr>\n",
              "      <th>5</th>\n",
              "      <td>2019-01-05</td>\n",
              "      <td>Saturday</td>\n",
              "      <td>January</td>\n",
              "      <td>3845.19</td>\n",
              "      <td>-0.32</td>\n",
              "      <td>-12.52</td>\n",
              "      <td>False</td>\n",
              "    </tr>\n",
              "  </tbody>\n",
              "</table>\n",
              "</div>"
            ],
            "text/plain": [
              "        Date        Day    Month  Adj_Close  Pct_Change    Diff   Eval\n",
              "1 2019-01-01    Tuesday  January    3843.52        2.69  100.82   True\n",
              "2 2019-01-02  Wednesday  January    3943.41        2.60   99.89   True\n",
              "3 2019-01-03   Thursday  January    3836.74       -2.70 -106.67  False\n",
              "4 2019-01-04     Friday  January    3857.72        0.55   20.98   True\n",
              "5 2019-01-05   Saturday  January    3845.19       -0.32  -12.52  False"
            ]
          },
          "metadata": {
            "tags": []
          },
          "execution_count": 2
        }
      ]
    },
    {
      "cell_type": "markdown",
      "metadata": {
        "id": "GVy17DD419mJ"
      },
      "source": [
        "Lo mismo se logra con la siguiente sintaxis\n",
        "~~~\n",
        "df = df.drop(['High','Low','Open','Close','Volume'], axis=1)\n",
        "~~~\n",
        "el atributo inplace permite obviar df = \n",
        "También se puede observar que la columna Eval continúa con sus valores porque fue creada previamente a la eliminación de las columnas Open y Close."
      ]
    }
  ]
}
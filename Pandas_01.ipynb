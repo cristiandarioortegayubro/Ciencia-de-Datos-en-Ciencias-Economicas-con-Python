{
  "nbformat": 4,
  "nbformat_minor": 0,
  "metadata": {
    "colab": {
      "name": "Pandas 01.ipynb",
      "provenance": [],
      "authorship_tag": "ABX9TyMOLuW8jQQM1JDaPupRVQPw",
      "include_colab_link": true
    },
    "kernelspec": {
      "name": "python3",
      "display_name": "Python 3"
    }
  },
  "cells": [
    {
      "cell_type": "markdown",
      "metadata": {
        "id": "view-in-github",
        "colab_type": "text"
      },
      "source": [
        "<a href=\"https://colab.research.google.com/github/cristiandarioortegayubro/Ciencia-de-Datos-en-Ciencias-Economicas-con-Python/blob/master/Pandas_01.ipynb\" target=\"_parent\"><img src=\"https://colab.research.google.com/assets/colab-badge.svg\" alt=\"Open In Colab\"/></a>"
      ]
    },
    {
      "cell_type": "markdown",
      "metadata": {
        "id": "x2Ixyd2x4xTL",
        "colab_type": "text"
      },
      "source": [
        "# **Pandas 01** - ANÁLISIS DE DATOS - **INTRODUCCIÓN**"
      ]
    },
    {
      "cell_type": "markdown",
      "metadata": {
        "id": "aFDMU-W_5qMZ",
        "colab_type": "text"
      },
      "source": [
        "## Carga de librerías necesarias"
      ]
    },
    {
      "cell_type": "code",
      "metadata": {
        "id": "4w_e5ZvH4i_C",
        "colab_type": "code",
        "colab": {}
      },
      "source": [
        "import numpy as np\n",
        "import pandas as pd"
      ],
      "execution_count": 1,
      "outputs": []
    },
    {
      "cell_type": "markdown",
      "metadata": {
        "id": "jmti1EVS59zS",
        "colab_type": "text"
      },
      "source": [
        "## Creación de un DataFrame - Extracción de datos"
      ]
    },
    {
      "cell_type": "code",
      "metadata": {
        "id": "waIjiA-m6RE1",
        "colab_type": "code",
        "colab": {
          "base_uri": "https://localhost:8080/",
          "height": 71
        },
        "outputId": "1008a0a1-b607-4938-8003-31ee3b34969d"
      },
      "source": [
        "import pandas_datareader as pdr\n",
        "BTC2019 = pdr.DataReader(\"BTC-USD\", start='2018-12-31', end='2019-12-29', data_source='yahoo')"
      ],
      "execution_count": 2,
      "outputs": [
        {
          "output_type": "stream",
          "text": [
            "/usr/local/lib/python3.6/dist-packages/pandas_datareader/compat/__init__.py:7: FutureWarning: pandas.util.testing is deprecated. Use the functions in the public API at pandas.testing instead.\n",
            "  from pandas.util.testing import assert_frame_equal\n"
          ],
          "name": "stderr"
        }
      ]
    },
    {
      "cell_type": "code",
      "metadata": {
        "id": "Xh2tkAq06j0P",
        "colab_type": "code",
        "colab": {}
      },
      "source": [
        "df = pd.DataFrame(BTC2019)"
      ],
      "execution_count": 3,
      "outputs": []
    },
    {
      "cell_type": "markdown",
      "metadata": {
        "id": "bA50Me637Ci0",
        "colab_type": "text"
      },
      "source": [
        "## Tipos de datos del DataFrame y tamaño"
      ]
    },
    {
      "cell_type": "code",
      "metadata": {
        "id": "NhInl2Xr7Gke",
        "colab_type": "code",
        "colab": {
          "base_uri": "https://localhost:8080/",
          "height": 136
        },
        "outputId": "99405c0c-eb03-4929-b798-1a5e41ad87cd"
      },
      "source": [
        "df.dtypes"
      ],
      "execution_count": 4,
      "outputs": [
        {
          "output_type": "execute_result",
          "data": {
            "text/plain": [
              "High         float64\n",
              "Low          float64\n",
              "Open         float64\n",
              "Close        float64\n",
              "Volume         int64\n",
              "Adj Close    float64\n",
              "dtype: object"
            ]
          },
          "metadata": {
            "tags": []
          },
          "execution_count": 4
        }
      ]
    },
    {
      "cell_type": "code",
      "metadata": {
        "id": "TlxetqUoSeni",
        "colab_type": "code",
        "colab": {
          "base_uri": "https://localhost:8080/",
          "height": 238
        },
        "outputId": "aa2750bc-a8b1-48b0-b07f-45d486abb087"
      },
      "source": [
        "df.info()"
      ],
      "execution_count": 5,
      "outputs": [
        {
          "output_type": "stream",
          "text": [
            "<class 'pandas.core.frame.DataFrame'>\n",
            "DatetimeIndex: 365 entries, 2018-12-31 to 2019-12-30\n",
            "Data columns (total 6 columns):\n",
            " #   Column     Non-Null Count  Dtype  \n",
            "---  ------     --------------  -----  \n",
            " 0   High       365 non-null    float64\n",
            " 1   Low        365 non-null    float64\n",
            " 2   Open       365 non-null    float64\n",
            " 3   Close      365 non-null    float64\n",
            " 4   Volume     365 non-null    int64  \n",
            " 5   Adj Close  365 non-null    float64\n",
            "dtypes: float64(5), int64(1)\n",
            "memory usage: 20.0 KB\n"
          ],
          "name": "stdout"
        }
      ]
    },
    {
      "cell_type": "code",
      "metadata": {
        "id": "IHtcTtEEtwPp",
        "colab_type": "code",
        "colab": {
          "base_uri": "https://localhost:8080/",
          "height": 34
        },
        "outputId": "e8d3ef87-e3f8-40b9-f284-7022756df553"
      },
      "source": [
        "df.shape"
      ],
      "execution_count": 6,
      "outputs": [
        {
          "output_type": "execute_result",
          "data": {
            "text/plain": [
              "(365, 6)"
            ]
          },
          "metadata": {
            "tags": []
          },
          "execution_count": 6
        }
      ]
    },
    {
      "cell_type": "markdown",
      "metadata": {
        "id": "MYcHqX-t7aVv",
        "colab_type": "text"
      },
      "source": [
        "## Visualización de los datos del DataFrame"
      ]
    },
    {
      "cell_type": "code",
      "metadata": {
        "id": "HoA-1K7j7eYq",
        "colab_type": "code",
        "colab": {
          "base_uri": "https://localhost:8080/",
          "height": 235
        },
        "outputId": "ee2b70e8-5f36-4df5-cb9f-8dafc33aaf78"
      },
      "source": [
        "df.head()"
      ],
      "execution_count": 7,
      "outputs": [
        {
          "output_type": "execute_result",
          "data": {
            "text/html": [
              "<div>\n",
              "<style scoped>\n",
              "    .dataframe tbody tr th:only-of-type {\n",
              "        vertical-align: middle;\n",
              "    }\n",
              "\n",
              "    .dataframe tbody tr th {\n",
              "        vertical-align: top;\n",
              "    }\n",
              "\n",
              "    .dataframe thead th {\n",
              "        text-align: right;\n",
              "    }\n",
              "</style>\n",
              "<table border=\"1\" class=\"dataframe\">\n",
              "  <thead>\n",
              "    <tr style=\"text-align: right;\">\n",
              "      <th></th>\n",
              "      <th>High</th>\n",
              "      <th>Low</th>\n",
              "      <th>Open</th>\n",
              "      <th>Close</th>\n",
              "      <th>Volume</th>\n",
              "      <th>Adj Close</th>\n",
              "    </tr>\n",
              "    <tr>\n",
              "      <th>Date</th>\n",
              "      <th></th>\n",
              "      <th></th>\n",
              "      <th></th>\n",
              "      <th></th>\n",
              "      <th></th>\n",
              "      <th></th>\n",
              "    </tr>\n",
              "  </thead>\n",
              "  <tbody>\n",
              "    <tr>\n",
              "      <th>2018-12-31</th>\n",
              "      <td>3868.742920</td>\n",
              "      <td>3725.867432</td>\n",
              "      <td>3866.839111</td>\n",
              "      <td>3742.700439</td>\n",
              "      <td>4661840806</td>\n",
              "      <td>3742.700439</td>\n",
              "    </tr>\n",
              "    <tr>\n",
              "      <th>2019-01-01</th>\n",
              "      <td>3850.913818</td>\n",
              "      <td>3707.231201</td>\n",
              "      <td>3746.713379</td>\n",
              "      <td>3843.520020</td>\n",
              "      <td>4324200990</td>\n",
              "      <td>3843.520020</td>\n",
              "    </tr>\n",
              "    <tr>\n",
              "      <th>2019-01-02</th>\n",
              "      <td>3947.981201</td>\n",
              "      <td>3817.409424</td>\n",
              "      <td>3849.216309</td>\n",
              "      <td>3943.409424</td>\n",
              "      <td>5244856835</td>\n",
              "      <td>3943.409424</td>\n",
              "    </tr>\n",
              "    <tr>\n",
              "      <th>2019-01-03</th>\n",
              "      <td>3935.685059</td>\n",
              "      <td>3826.222900</td>\n",
              "      <td>3931.048584</td>\n",
              "      <td>3836.741211</td>\n",
              "      <td>4530215218</td>\n",
              "      <td>3836.741211</td>\n",
              "    </tr>\n",
              "    <tr>\n",
              "      <th>2019-01-04</th>\n",
              "      <td>3865.934570</td>\n",
              "      <td>3783.853760</td>\n",
              "      <td>3832.040039</td>\n",
              "      <td>3857.717529</td>\n",
              "      <td>4847965467</td>\n",
              "      <td>3857.717529</td>\n",
              "    </tr>\n",
              "  </tbody>\n",
              "</table>\n",
              "</div>"
            ],
            "text/plain": [
              "                   High          Low  ...      Volume    Adj Close\n",
              "Date                                  ...                         \n",
              "2018-12-31  3868.742920  3725.867432  ...  4661840806  3742.700439\n",
              "2019-01-01  3850.913818  3707.231201  ...  4324200990  3843.520020\n",
              "2019-01-02  3947.981201  3817.409424  ...  5244856835  3943.409424\n",
              "2019-01-03  3935.685059  3826.222900  ...  4530215218  3836.741211\n",
              "2019-01-04  3865.934570  3783.853760  ...  4847965467  3857.717529\n",
              "\n",
              "[5 rows x 6 columns]"
            ]
          },
          "metadata": {
            "tags": []
          },
          "execution_count": 7
        }
      ]
    },
    {
      "cell_type": "code",
      "metadata": {
        "id": "wIa5ghMI7nfq",
        "colab_type": "code",
        "colab": {
          "base_uri": "https://localhost:8080/",
          "height": 235
        },
        "outputId": "60448dbf-08f7-435f-a280-2a7be0435fc0"
      },
      "source": [
        "df.tail()"
      ],
      "execution_count": 8,
      "outputs": [
        {
          "output_type": "execute_result",
          "data": {
            "text/html": [
              "<div>\n",
              "<style scoped>\n",
              "    .dataframe tbody tr th:only-of-type {\n",
              "        vertical-align: middle;\n",
              "    }\n",
              "\n",
              "    .dataframe tbody tr th {\n",
              "        vertical-align: top;\n",
              "    }\n",
              "\n",
              "    .dataframe thead th {\n",
              "        text-align: right;\n",
              "    }\n",
              "</style>\n",
              "<table border=\"1\" class=\"dataframe\">\n",
              "  <thead>\n",
              "    <tr style=\"text-align: right;\">\n",
              "      <th></th>\n",
              "      <th>High</th>\n",
              "      <th>Low</th>\n",
              "      <th>Open</th>\n",
              "      <th>Close</th>\n",
              "      <th>Volume</th>\n",
              "      <th>Adj Close</th>\n",
              "    </tr>\n",
              "    <tr>\n",
              "      <th>Date</th>\n",
              "      <th></th>\n",
              "      <th></th>\n",
              "      <th></th>\n",
              "      <th></th>\n",
              "      <th></th>\n",
              "      <th></th>\n",
              "    </tr>\n",
              "  </thead>\n",
              "  <tbody>\n",
              "    <tr>\n",
              "      <th>2019-12-26</th>\n",
              "      <td>7388.302734</td>\n",
              "      <td>7200.386719</td>\n",
              "      <td>7274.799316</td>\n",
              "      <td>7238.966797</td>\n",
              "      <td>22787010034</td>\n",
              "      <td>7238.966797</td>\n",
              "    </tr>\n",
              "    <tr>\n",
              "      <th>2019-12-27</th>\n",
              "      <td>7363.529297</td>\n",
              "      <td>7189.934082</td>\n",
              "      <td>7238.141113</td>\n",
              "      <td>7290.088379</td>\n",
              "      <td>22777360995</td>\n",
              "      <td>7290.088379</td>\n",
              "    </tr>\n",
              "    <tr>\n",
              "      <th>2019-12-28</th>\n",
              "      <td>7399.041016</td>\n",
              "      <td>7286.905273</td>\n",
              "      <td>7289.031250</td>\n",
              "      <td>7317.990234</td>\n",
              "      <td>21365673026</td>\n",
              "      <td>7317.990234</td>\n",
              "    </tr>\n",
              "    <tr>\n",
              "      <th>2019-12-29</th>\n",
              "      <td>7513.948242</td>\n",
              "      <td>7279.865234</td>\n",
              "      <td>7317.647461</td>\n",
              "      <td>7422.652832</td>\n",
              "      <td>22445257701</td>\n",
              "      <td>7422.652832</td>\n",
              "    </tr>\n",
              "    <tr>\n",
              "      <th>2019-12-30</th>\n",
              "      <td>7454.824219</td>\n",
              "      <td>7276.308105</td>\n",
              "      <td>7420.272949</td>\n",
              "      <td>7292.995117</td>\n",
              "      <td>22874131671</td>\n",
              "      <td>7292.995117</td>\n",
              "    </tr>\n",
              "  </tbody>\n",
              "</table>\n",
              "</div>"
            ],
            "text/plain": [
              "                   High          Low  ...       Volume    Adj Close\n",
              "Date                                  ...                          \n",
              "2019-12-26  7388.302734  7200.386719  ...  22787010034  7238.966797\n",
              "2019-12-27  7363.529297  7189.934082  ...  22777360995  7290.088379\n",
              "2019-12-28  7399.041016  7286.905273  ...  21365673026  7317.990234\n",
              "2019-12-29  7513.948242  7279.865234  ...  22445257701  7422.652832\n",
              "2019-12-30  7454.824219  7276.308105  ...  22874131671  7292.995117\n",
              "\n",
              "[5 rows x 6 columns]"
            ]
          },
          "metadata": {
            "tags": []
          },
          "execution_count": 8
        }
      ]
    },
    {
      "cell_type": "code",
      "metadata": {
        "id": "825cQZj1768w",
        "colab_type": "code",
        "colab": {
          "base_uri": "https://localhost:8080/",
          "height": 153
        },
        "outputId": "933e05c1-5f9f-408d-806b-3c90b3638c05"
      },
      "source": [
        "df.index"
      ],
      "execution_count": 9,
      "outputs": [
        {
          "output_type": "execute_result",
          "data": {
            "text/plain": [
              "DatetimeIndex(['2018-12-31', '2019-01-01', '2019-01-02', '2019-01-03',\n",
              "               '2019-01-04', '2019-01-05', '2019-01-06', '2019-01-07',\n",
              "               '2019-01-08', '2019-01-09',\n",
              "               ...\n",
              "               '2019-12-21', '2019-12-22', '2019-12-23', '2019-12-24',\n",
              "               '2019-12-25', '2019-12-26', '2019-12-27', '2019-12-28',\n",
              "               '2019-12-29', '2019-12-30'],\n",
              "              dtype='datetime64[ns]', name='Date', length=365, freq=None)"
            ]
          },
          "metadata": {
            "tags": []
          },
          "execution_count": 9
        }
      ]
    },
    {
      "cell_type": "code",
      "metadata": {
        "id": "-X4KBRTc8APP",
        "colab_type": "code",
        "colab": {
          "base_uri": "https://localhost:8080/",
          "height": 34
        },
        "outputId": "3975ddb6-3406-4795-e10e-07c2d1907691"
      },
      "source": [
        "df.columns"
      ],
      "execution_count": 10,
      "outputs": [
        {
          "output_type": "execute_result",
          "data": {
            "text/plain": [
              "Index(['High', 'Low', 'Open', 'Close', 'Volume', 'Adj Close'], dtype='object')"
            ]
          },
          "metadata": {
            "tags": []
          },
          "execution_count": 10
        }
      ]
    },
    {
      "cell_type": "markdown",
      "metadata": {
        "id": "phZWJ29oDKnu",
        "colab_type": "text"
      },
      "source": [
        "## Transformación de los datos del DataFrame"
      ]
    },
    {
      "cell_type": "code",
      "metadata": {
        "id": "BKadAHddLpAt",
        "colab_type": "code",
        "colab": {
          "base_uri": "https://localhost:8080/",
          "height": 235
        },
        "outputId": "78717c52-2173-4146-baf9-1acf632cddc1"
      },
      "source": [
        "df.head()"
      ],
      "execution_count": 11,
      "outputs": [
        {
          "output_type": "execute_result",
          "data": {
            "text/html": [
              "<div>\n",
              "<style scoped>\n",
              "    .dataframe tbody tr th:only-of-type {\n",
              "        vertical-align: middle;\n",
              "    }\n",
              "\n",
              "    .dataframe tbody tr th {\n",
              "        vertical-align: top;\n",
              "    }\n",
              "\n",
              "    .dataframe thead th {\n",
              "        text-align: right;\n",
              "    }\n",
              "</style>\n",
              "<table border=\"1\" class=\"dataframe\">\n",
              "  <thead>\n",
              "    <tr style=\"text-align: right;\">\n",
              "      <th></th>\n",
              "      <th>High</th>\n",
              "      <th>Low</th>\n",
              "      <th>Open</th>\n",
              "      <th>Close</th>\n",
              "      <th>Volume</th>\n",
              "      <th>Adj Close</th>\n",
              "    </tr>\n",
              "    <tr>\n",
              "      <th>Date</th>\n",
              "      <th></th>\n",
              "      <th></th>\n",
              "      <th></th>\n",
              "      <th></th>\n",
              "      <th></th>\n",
              "      <th></th>\n",
              "    </tr>\n",
              "  </thead>\n",
              "  <tbody>\n",
              "    <tr>\n",
              "      <th>2018-12-31</th>\n",
              "      <td>3868.742920</td>\n",
              "      <td>3725.867432</td>\n",
              "      <td>3866.839111</td>\n",
              "      <td>3742.700439</td>\n",
              "      <td>4661840806</td>\n",
              "      <td>3742.700439</td>\n",
              "    </tr>\n",
              "    <tr>\n",
              "      <th>2019-01-01</th>\n",
              "      <td>3850.913818</td>\n",
              "      <td>3707.231201</td>\n",
              "      <td>3746.713379</td>\n",
              "      <td>3843.520020</td>\n",
              "      <td>4324200990</td>\n",
              "      <td>3843.520020</td>\n",
              "    </tr>\n",
              "    <tr>\n",
              "      <th>2019-01-02</th>\n",
              "      <td>3947.981201</td>\n",
              "      <td>3817.409424</td>\n",
              "      <td>3849.216309</td>\n",
              "      <td>3943.409424</td>\n",
              "      <td>5244856835</td>\n",
              "      <td>3943.409424</td>\n",
              "    </tr>\n",
              "    <tr>\n",
              "      <th>2019-01-03</th>\n",
              "      <td>3935.685059</td>\n",
              "      <td>3826.222900</td>\n",
              "      <td>3931.048584</td>\n",
              "      <td>3836.741211</td>\n",
              "      <td>4530215218</td>\n",
              "      <td>3836.741211</td>\n",
              "    </tr>\n",
              "    <tr>\n",
              "      <th>2019-01-04</th>\n",
              "      <td>3865.934570</td>\n",
              "      <td>3783.853760</td>\n",
              "      <td>3832.040039</td>\n",
              "      <td>3857.717529</td>\n",
              "      <td>4847965467</td>\n",
              "      <td>3857.717529</td>\n",
              "    </tr>\n",
              "  </tbody>\n",
              "</table>\n",
              "</div>"
            ],
            "text/plain": [
              "                   High          Low  ...      Volume    Adj Close\n",
              "Date                                  ...                         \n",
              "2018-12-31  3868.742920  3725.867432  ...  4661840806  3742.700439\n",
              "2019-01-01  3850.913818  3707.231201  ...  4324200990  3843.520020\n",
              "2019-01-02  3947.981201  3817.409424  ...  5244856835  3943.409424\n",
              "2019-01-03  3935.685059  3826.222900  ...  4530215218  3836.741211\n",
              "2019-01-04  3865.934570  3783.853760  ...  4847965467  3857.717529\n",
              "\n",
              "[5 rows x 6 columns]"
            ]
          },
          "metadata": {
            "tags": []
          },
          "execution_count": 11
        }
      ]
    },
    {
      "cell_type": "code",
      "metadata": {
        "id": "V674Qf7GEF4G",
        "colab_type": "code",
        "colab": {
          "base_uri": "https://localhost:8080/",
          "height": 204
        },
        "outputId": "ce7d91bb-ff01-476d-f6c3-4c19f13588ec"
      },
      "source": [
        "df.insert(0,column='Date',value=df.index.values)\n",
        "df.reset_index(drop=True, inplace=True)\n",
        "df.head()"
      ],
      "execution_count": 12,
      "outputs": [
        {
          "output_type": "execute_result",
          "data": {
            "text/html": [
              "<div>\n",
              "<style scoped>\n",
              "    .dataframe tbody tr th:only-of-type {\n",
              "        vertical-align: middle;\n",
              "    }\n",
              "\n",
              "    .dataframe tbody tr th {\n",
              "        vertical-align: top;\n",
              "    }\n",
              "\n",
              "    .dataframe thead th {\n",
              "        text-align: right;\n",
              "    }\n",
              "</style>\n",
              "<table border=\"1\" class=\"dataframe\">\n",
              "  <thead>\n",
              "    <tr style=\"text-align: right;\">\n",
              "      <th></th>\n",
              "      <th>Date</th>\n",
              "      <th>High</th>\n",
              "      <th>Low</th>\n",
              "      <th>Open</th>\n",
              "      <th>Close</th>\n",
              "      <th>Volume</th>\n",
              "      <th>Adj Close</th>\n",
              "    </tr>\n",
              "  </thead>\n",
              "  <tbody>\n",
              "    <tr>\n",
              "      <th>0</th>\n",
              "      <td>2018-12-31</td>\n",
              "      <td>3868.742920</td>\n",
              "      <td>3725.867432</td>\n",
              "      <td>3866.839111</td>\n",
              "      <td>3742.700439</td>\n",
              "      <td>4661840806</td>\n",
              "      <td>3742.700439</td>\n",
              "    </tr>\n",
              "    <tr>\n",
              "      <th>1</th>\n",
              "      <td>2019-01-01</td>\n",
              "      <td>3850.913818</td>\n",
              "      <td>3707.231201</td>\n",
              "      <td>3746.713379</td>\n",
              "      <td>3843.520020</td>\n",
              "      <td>4324200990</td>\n",
              "      <td>3843.520020</td>\n",
              "    </tr>\n",
              "    <tr>\n",
              "      <th>2</th>\n",
              "      <td>2019-01-02</td>\n",
              "      <td>3947.981201</td>\n",
              "      <td>3817.409424</td>\n",
              "      <td>3849.216309</td>\n",
              "      <td>3943.409424</td>\n",
              "      <td>5244856835</td>\n",
              "      <td>3943.409424</td>\n",
              "    </tr>\n",
              "    <tr>\n",
              "      <th>3</th>\n",
              "      <td>2019-01-03</td>\n",
              "      <td>3935.685059</td>\n",
              "      <td>3826.222900</td>\n",
              "      <td>3931.048584</td>\n",
              "      <td>3836.741211</td>\n",
              "      <td>4530215218</td>\n",
              "      <td>3836.741211</td>\n",
              "    </tr>\n",
              "    <tr>\n",
              "      <th>4</th>\n",
              "      <td>2019-01-04</td>\n",
              "      <td>3865.934570</td>\n",
              "      <td>3783.853760</td>\n",
              "      <td>3832.040039</td>\n",
              "      <td>3857.717529</td>\n",
              "      <td>4847965467</td>\n",
              "      <td>3857.717529</td>\n",
              "    </tr>\n",
              "  </tbody>\n",
              "</table>\n",
              "</div>"
            ],
            "text/plain": [
              "        Date         High          Low  ...        Close      Volume    Adj Close\n",
              "0 2018-12-31  3868.742920  3725.867432  ...  3742.700439  4661840806  3742.700439\n",
              "1 2019-01-01  3850.913818  3707.231201  ...  3843.520020  4324200990  3843.520020\n",
              "2 2019-01-02  3947.981201  3817.409424  ...  3943.409424  5244856835  3943.409424\n",
              "3 2019-01-03  3935.685059  3826.222900  ...  3836.741211  4530215218  3836.741211\n",
              "4 2019-01-04  3865.934570  3783.853760  ...  3857.717529  4847965467  3857.717529\n",
              "\n",
              "[5 rows x 7 columns]"
            ]
          },
          "metadata": {
            "tags": []
          },
          "execution_count": 12
        }
      ]
    },
    {
      "cell_type": "code",
      "metadata": {
        "id": "59l3MwxhG01N",
        "colab_type": "code",
        "colab": {
          "base_uri": "https://localhost:8080/",
          "height": 204
        },
        "outputId": "ddda26dd-4355-4b2f-b770-c63de1b27899"
      },
      "source": [
        "df.insert(1,column='Day',value=pd.DatetimeIndex(df['Date']).day_name())\n",
        "df.head()"
      ],
      "execution_count": 13,
      "outputs": [
        {
          "output_type": "execute_result",
          "data": {
            "text/html": [
              "<div>\n",
              "<style scoped>\n",
              "    .dataframe tbody tr th:only-of-type {\n",
              "        vertical-align: middle;\n",
              "    }\n",
              "\n",
              "    .dataframe tbody tr th {\n",
              "        vertical-align: top;\n",
              "    }\n",
              "\n",
              "    .dataframe thead th {\n",
              "        text-align: right;\n",
              "    }\n",
              "</style>\n",
              "<table border=\"1\" class=\"dataframe\">\n",
              "  <thead>\n",
              "    <tr style=\"text-align: right;\">\n",
              "      <th></th>\n",
              "      <th>Date</th>\n",
              "      <th>Day</th>\n",
              "      <th>High</th>\n",
              "      <th>Low</th>\n",
              "      <th>Open</th>\n",
              "      <th>Close</th>\n",
              "      <th>Volume</th>\n",
              "      <th>Adj Close</th>\n",
              "    </tr>\n",
              "  </thead>\n",
              "  <tbody>\n",
              "    <tr>\n",
              "      <th>0</th>\n",
              "      <td>2018-12-31</td>\n",
              "      <td>Monday</td>\n",
              "      <td>3868.742920</td>\n",
              "      <td>3725.867432</td>\n",
              "      <td>3866.839111</td>\n",
              "      <td>3742.700439</td>\n",
              "      <td>4661840806</td>\n",
              "      <td>3742.700439</td>\n",
              "    </tr>\n",
              "    <tr>\n",
              "      <th>1</th>\n",
              "      <td>2019-01-01</td>\n",
              "      <td>Tuesday</td>\n",
              "      <td>3850.913818</td>\n",
              "      <td>3707.231201</td>\n",
              "      <td>3746.713379</td>\n",
              "      <td>3843.520020</td>\n",
              "      <td>4324200990</td>\n",
              "      <td>3843.520020</td>\n",
              "    </tr>\n",
              "    <tr>\n",
              "      <th>2</th>\n",
              "      <td>2019-01-02</td>\n",
              "      <td>Wednesday</td>\n",
              "      <td>3947.981201</td>\n",
              "      <td>3817.409424</td>\n",
              "      <td>3849.216309</td>\n",
              "      <td>3943.409424</td>\n",
              "      <td>5244856835</td>\n",
              "      <td>3943.409424</td>\n",
              "    </tr>\n",
              "    <tr>\n",
              "      <th>3</th>\n",
              "      <td>2019-01-03</td>\n",
              "      <td>Thursday</td>\n",
              "      <td>3935.685059</td>\n",
              "      <td>3826.222900</td>\n",
              "      <td>3931.048584</td>\n",
              "      <td>3836.741211</td>\n",
              "      <td>4530215218</td>\n",
              "      <td>3836.741211</td>\n",
              "    </tr>\n",
              "    <tr>\n",
              "      <th>4</th>\n",
              "      <td>2019-01-04</td>\n",
              "      <td>Friday</td>\n",
              "      <td>3865.934570</td>\n",
              "      <td>3783.853760</td>\n",
              "      <td>3832.040039</td>\n",
              "      <td>3857.717529</td>\n",
              "      <td>4847965467</td>\n",
              "      <td>3857.717529</td>\n",
              "    </tr>\n",
              "  </tbody>\n",
              "</table>\n",
              "</div>"
            ],
            "text/plain": [
              "        Date        Day         High  ...        Close      Volume    Adj Close\n",
              "0 2018-12-31     Monday  3868.742920  ...  3742.700439  4661840806  3742.700439\n",
              "1 2019-01-01    Tuesday  3850.913818  ...  3843.520020  4324200990  3843.520020\n",
              "2 2019-01-02  Wednesday  3947.981201  ...  3943.409424  5244856835  3943.409424\n",
              "3 2019-01-03   Thursday  3935.685059  ...  3836.741211  4530215218  3836.741211\n",
              "4 2019-01-04     Friday  3865.934570  ...  3857.717529  4847965467  3857.717529\n",
              "\n",
              "[5 rows x 8 columns]"
            ]
          },
          "metadata": {
            "tags": []
          },
          "execution_count": 13
        }
      ]
    },
    {
      "cell_type": "code",
      "metadata": {
        "id": "vPrwY4XXHhKC",
        "colab_type": "code",
        "colab": {
          "base_uri": "https://localhost:8080/",
          "height": 204
        },
        "outputId": "42949c05-8b83-45f5-a530-c1cb86d0180d"
      },
      "source": [
        "df.rename(columns={'Adj Close':'AdjClose'}, inplace=True)\n",
        "df.head()"
      ],
      "execution_count": 14,
      "outputs": [
        {
          "output_type": "execute_result",
          "data": {
            "text/html": [
              "<div>\n",
              "<style scoped>\n",
              "    .dataframe tbody tr th:only-of-type {\n",
              "        vertical-align: middle;\n",
              "    }\n",
              "\n",
              "    .dataframe tbody tr th {\n",
              "        vertical-align: top;\n",
              "    }\n",
              "\n",
              "    .dataframe thead th {\n",
              "        text-align: right;\n",
              "    }\n",
              "</style>\n",
              "<table border=\"1\" class=\"dataframe\">\n",
              "  <thead>\n",
              "    <tr style=\"text-align: right;\">\n",
              "      <th></th>\n",
              "      <th>Date</th>\n",
              "      <th>Day</th>\n",
              "      <th>High</th>\n",
              "      <th>Low</th>\n",
              "      <th>Open</th>\n",
              "      <th>Close</th>\n",
              "      <th>Volume</th>\n",
              "      <th>AdjClose</th>\n",
              "    </tr>\n",
              "  </thead>\n",
              "  <tbody>\n",
              "    <tr>\n",
              "      <th>0</th>\n",
              "      <td>2018-12-31</td>\n",
              "      <td>Monday</td>\n",
              "      <td>3868.742920</td>\n",
              "      <td>3725.867432</td>\n",
              "      <td>3866.839111</td>\n",
              "      <td>3742.700439</td>\n",
              "      <td>4661840806</td>\n",
              "      <td>3742.700439</td>\n",
              "    </tr>\n",
              "    <tr>\n",
              "      <th>1</th>\n",
              "      <td>2019-01-01</td>\n",
              "      <td>Tuesday</td>\n",
              "      <td>3850.913818</td>\n",
              "      <td>3707.231201</td>\n",
              "      <td>3746.713379</td>\n",
              "      <td>3843.520020</td>\n",
              "      <td>4324200990</td>\n",
              "      <td>3843.520020</td>\n",
              "    </tr>\n",
              "    <tr>\n",
              "      <th>2</th>\n",
              "      <td>2019-01-02</td>\n",
              "      <td>Wednesday</td>\n",
              "      <td>3947.981201</td>\n",
              "      <td>3817.409424</td>\n",
              "      <td>3849.216309</td>\n",
              "      <td>3943.409424</td>\n",
              "      <td>5244856835</td>\n",
              "      <td>3943.409424</td>\n",
              "    </tr>\n",
              "    <tr>\n",
              "      <th>3</th>\n",
              "      <td>2019-01-03</td>\n",
              "      <td>Thursday</td>\n",
              "      <td>3935.685059</td>\n",
              "      <td>3826.222900</td>\n",
              "      <td>3931.048584</td>\n",
              "      <td>3836.741211</td>\n",
              "      <td>4530215218</td>\n",
              "      <td>3836.741211</td>\n",
              "    </tr>\n",
              "    <tr>\n",
              "      <th>4</th>\n",
              "      <td>2019-01-04</td>\n",
              "      <td>Friday</td>\n",
              "      <td>3865.934570</td>\n",
              "      <td>3783.853760</td>\n",
              "      <td>3832.040039</td>\n",
              "      <td>3857.717529</td>\n",
              "      <td>4847965467</td>\n",
              "      <td>3857.717529</td>\n",
              "    </tr>\n",
              "  </tbody>\n",
              "</table>\n",
              "</div>"
            ],
            "text/plain": [
              "        Date        Day         High  ...        Close      Volume     AdjClose\n",
              "0 2018-12-31     Monday  3868.742920  ...  3742.700439  4661840806  3742.700439\n",
              "1 2019-01-01    Tuesday  3850.913818  ...  3843.520020  4324200990  3843.520020\n",
              "2 2019-01-02  Wednesday  3947.981201  ...  3943.409424  5244856835  3943.409424\n",
              "3 2019-01-03   Thursday  3935.685059  ...  3836.741211  4530215218  3836.741211\n",
              "4 2019-01-04     Friday  3865.934570  ...  3857.717529  4847965467  3857.717529\n",
              "\n",
              "[5 rows x 8 columns]"
            ]
          },
          "metadata": {
            "tags": []
          },
          "execution_count": 14
        }
      ]
    },
    {
      "cell_type": "code",
      "metadata": {
        "id": "sGUSCsXxIQu6",
        "colab_type": "code",
        "colab": {
          "base_uri": "https://localhost:8080/",
          "height": 204
        },
        "outputId": "af586f81-3c42-4ddf-aea0-a6ee16896b46"
      },
      "source": [
        "df['Return'] = df.AdjClose.pct_change()\n",
        "df.head()"
      ],
      "execution_count": 15,
      "outputs": [
        {
          "output_type": "execute_result",
          "data": {
            "text/html": [
              "<div>\n",
              "<style scoped>\n",
              "    .dataframe tbody tr th:only-of-type {\n",
              "        vertical-align: middle;\n",
              "    }\n",
              "\n",
              "    .dataframe tbody tr th {\n",
              "        vertical-align: top;\n",
              "    }\n",
              "\n",
              "    .dataframe thead th {\n",
              "        text-align: right;\n",
              "    }\n",
              "</style>\n",
              "<table border=\"1\" class=\"dataframe\">\n",
              "  <thead>\n",
              "    <tr style=\"text-align: right;\">\n",
              "      <th></th>\n",
              "      <th>Date</th>\n",
              "      <th>Day</th>\n",
              "      <th>High</th>\n",
              "      <th>Low</th>\n",
              "      <th>Open</th>\n",
              "      <th>Close</th>\n",
              "      <th>Volume</th>\n",
              "      <th>AdjClose</th>\n",
              "      <th>Return</th>\n",
              "    </tr>\n",
              "  </thead>\n",
              "  <tbody>\n",
              "    <tr>\n",
              "      <th>0</th>\n",
              "      <td>2018-12-31</td>\n",
              "      <td>Monday</td>\n",
              "      <td>3868.742920</td>\n",
              "      <td>3725.867432</td>\n",
              "      <td>3866.839111</td>\n",
              "      <td>3742.700439</td>\n",
              "      <td>4661840806</td>\n",
              "      <td>3742.700439</td>\n",
              "      <td>NaN</td>\n",
              "    </tr>\n",
              "    <tr>\n",
              "      <th>1</th>\n",
              "      <td>2019-01-01</td>\n",
              "      <td>Tuesday</td>\n",
              "      <td>3850.913818</td>\n",
              "      <td>3707.231201</td>\n",
              "      <td>3746.713379</td>\n",
              "      <td>3843.520020</td>\n",
              "      <td>4324200990</td>\n",
              "      <td>3843.520020</td>\n",
              "      <td>0.026938</td>\n",
              "    </tr>\n",
              "    <tr>\n",
              "      <th>2</th>\n",
              "      <td>2019-01-02</td>\n",
              "      <td>Wednesday</td>\n",
              "      <td>3947.981201</td>\n",
              "      <td>3817.409424</td>\n",
              "      <td>3849.216309</td>\n",
              "      <td>3943.409424</td>\n",
              "      <td>5244856835</td>\n",
              "      <td>3943.409424</td>\n",
              "      <td>0.025989</td>\n",
              "    </tr>\n",
              "    <tr>\n",
              "      <th>3</th>\n",
              "      <td>2019-01-03</td>\n",
              "      <td>Thursday</td>\n",
              "      <td>3935.685059</td>\n",
              "      <td>3826.222900</td>\n",
              "      <td>3931.048584</td>\n",
              "      <td>3836.741211</td>\n",
              "      <td>4530215218</td>\n",
              "      <td>3836.741211</td>\n",
              "      <td>-0.027050</td>\n",
              "    </tr>\n",
              "    <tr>\n",
              "      <th>4</th>\n",
              "      <td>2019-01-04</td>\n",
              "      <td>Friday</td>\n",
              "      <td>3865.934570</td>\n",
              "      <td>3783.853760</td>\n",
              "      <td>3832.040039</td>\n",
              "      <td>3857.717529</td>\n",
              "      <td>4847965467</td>\n",
              "      <td>3857.717529</td>\n",
              "      <td>0.005467</td>\n",
              "    </tr>\n",
              "  </tbody>\n",
              "</table>\n",
              "</div>"
            ],
            "text/plain": [
              "        Date        Day         High  ...      Volume     AdjClose    Return\n",
              "0 2018-12-31     Monday  3868.742920  ...  4661840806  3742.700439       NaN\n",
              "1 2019-01-01    Tuesday  3850.913818  ...  4324200990  3843.520020  0.026938\n",
              "2 2019-01-02  Wednesday  3947.981201  ...  5244856835  3943.409424  0.025989\n",
              "3 2019-01-03   Thursday  3935.685059  ...  4530215218  3836.741211 -0.027050\n",
              "4 2019-01-04     Friday  3865.934570  ...  4847965467  3857.717529  0.005467\n",
              "\n",
              "[5 rows x 9 columns]"
            ]
          },
          "metadata": {
            "tags": []
          },
          "execution_count": 15
        }
      ]
    },
    {
      "cell_type": "code",
      "metadata": {
        "id": "H_NN7PcGJKoE",
        "colab_type": "code",
        "colab": {
          "base_uri": "https://localhost:8080/",
          "height": 204
        },
        "outputId": "11b4fc83-65ce-45d5-c6e0-186d81f84d82"
      },
      "source": [
        "df.dropna(how='any', inplace=True)\n",
        "df.head()"
      ],
      "execution_count": 16,
      "outputs": [
        {
          "output_type": "execute_result",
          "data": {
            "text/html": [
              "<div>\n",
              "<style scoped>\n",
              "    .dataframe tbody tr th:only-of-type {\n",
              "        vertical-align: middle;\n",
              "    }\n",
              "\n",
              "    .dataframe tbody tr th {\n",
              "        vertical-align: top;\n",
              "    }\n",
              "\n",
              "    .dataframe thead th {\n",
              "        text-align: right;\n",
              "    }\n",
              "</style>\n",
              "<table border=\"1\" class=\"dataframe\">\n",
              "  <thead>\n",
              "    <tr style=\"text-align: right;\">\n",
              "      <th></th>\n",
              "      <th>Date</th>\n",
              "      <th>Day</th>\n",
              "      <th>High</th>\n",
              "      <th>Low</th>\n",
              "      <th>Open</th>\n",
              "      <th>Close</th>\n",
              "      <th>Volume</th>\n",
              "      <th>AdjClose</th>\n",
              "      <th>Return</th>\n",
              "    </tr>\n",
              "  </thead>\n",
              "  <tbody>\n",
              "    <tr>\n",
              "      <th>1</th>\n",
              "      <td>2019-01-01</td>\n",
              "      <td>Tuesday</td>\n",
              "      <td>3850.913818</td>\n",
              "      <td>3707.231201</td>\n",
              "      <td>3746.713379</td>\n",
              "      <td>3843.520020</td>\n",
              "      <td>4324200990</td>\n",
              "      <td>3843.520020</td>\n",
              "      <td>0.026938</td>\n",
              "    </tr>\n",
              "    <tr>\n",
              "      <th>2</th>\n",
              "      <td>2019-01-02</td>\n",
              "      <td>Wednesday</td>\n",
              "      <td>3947.981201</td>\n",
              "      <td>3817.409424</td>\n",
              "      <td>3849.216309</td>\n",
              "      <td>3943.409424</td>\n",
              "      <td>5244856835</td>\n",
              "      <td>3943.409424</td>\n",
              "      <td>0.025989</td>\n",
              "    </tr>\n",
              "    <tr>\n",
              "      <th>3</th>\n",
              "      <td>2019-01-03</td>\n",
              "      <td>Thursday</td>\n",
              "      <td>3935.685059</td>\n",
              "      <td>3826.222900</td>\n",
              "      <td>3931.048584</td>\n",
              "      <td>3836.741211</td>\n",
              "      <td>4530215218</td>\n",
              "      <td>3836.741211</td>\n",
              "      <td>-0.027050</td>\n",
              "    </tr>\n",
              "    <tr>\n",
              "      <th>4</th>\n",
              "      <td>2019-01-04</td>\n",
              "      <td>Friday</td>\n",
              "      <td>3865.934570</td>\n",
              "      <td>3783.853760</td>\n",
              "      <td>3832.040039</td>\n",
              "      <td>3857.717529</td>\n",
              "      <td>4847965467</td>\n",
              "      <td>3857.717529</td>\n",
              "      <td>0.005467</td>\n",
              "    </tr>\n",
              "    <tr>\n",
              "      <th>5</th>\n",
              "      <td>2019-01-05</td>\n",
              "      <td>Saturday</td>\n",
              "      <td>3904.903076</td>\n",
              "      <td>3836.900146</td>\n",
              "      <td>3851.973877</td>\n",
              "      <td>3845.194580</td>\n",
              "      <td>5137609823</td>\n",
              "      <td>3845.194580</td>\n",
              "      <td>-0.003246</td>\n",
              "    </tr>\n",
              "  </tbody>\n",
              "</table>\n",
              "</div>"
            ],
            "text/plain": [
              "        Date        Day         High  ...      Volume     AdjClose    Return\n",
              "1 2019-01-01    Tuesday  3850.913818  ...  4324200990  3843.520020  0.026938\n",
              "2 2019-01-02  Wednesday  3947.981201  ...  5244856835  3943.409424  0.025989\n",
              "3 2019-01-03   Thursday  3935.685059  ...  4530215218  3836.741211 -0.027050\n",
              "4 2019-01-04     Friday  3865.934570  ...  4847965467  3857.717529  0.005467\n",
              "5 2019-01-05   Saturday  3904.903076  ...  5137609823  3845.194580 -0.003246\n",
              "\n",
              "[5 rows x 9 columns]"
            ]
          },
          "metadata": {
            "tags": []
          },
          "execution_count": 16
        }
      ]
    },
    {
      "cell_type": "code",
      "metadata": {
        "id": "sSUpI6p8MDx8",
        "colab_type": "code",
        "colab": {
          "base_uri": "https://localhost:8080/",
          "height": 289
        },
        "outputId": "2d6ff56b-6060-499e-e91c-6bb27e29b575"
      },
      "source": [
        "df.info()"
      ],
      "execution_count": 17,
      "outputs": [
        {
          "output_type": "stream",
          "text": [
            "<class 'pandas.core.frame.DataFrame'>\n",
            "Int64Index: 364 entries, 1 to 364\n",
            "Data columns (total 9 columns):\n",
            " #   Column    Non-Null Count  Dtype         \n",
            "---  ------    --------------  -----         \n",
            " 0   Date      364 non-null    datetime64[ns]\n",
            " 1   Day       364 non-null    object        \n",
            " 2   High      364 non-null    float64       \n",
            " 3   Low       364 non-null    float64       \n",
            " 4   Open      364 non-null    float64       \n",
            " 5   Close     364 non-null    float64       \n",
            " 6   Volume    364 non-null    int64         \n",
            " 7   AdjClose  364 non-null    float64       \n",
            " 8   Return    364 non-null    float64       \n",
            "dtypes: datetime64[ns](1), float64(6), int64(1), object(1)\n",
            "memory usage: 28.4+ KB\n"
          ],
          "name": "stdout"
        }
      ]
    }
  ]
}
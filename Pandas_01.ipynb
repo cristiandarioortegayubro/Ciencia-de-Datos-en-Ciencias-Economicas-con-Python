{
  "nbformat": 4,
  "nbformat_minor": 0,
  "metadata": {
    "colab": {
      "name": "Pandas 01.ipynb",
      "provenance": [],
      "authorship_tag": "ABX9TyOcYt8sC2MY5jU0PeugJsEf",
      "include_colab_link": true
    },
    "kernelspec": {
      "name": "python3",
      "display_name": "Python 3"
    }
  },
  "cells": [
    {
      "cell_type": "markdown",
      "metadata": {
        "id": "view-in-github",
        "colab_type": "text"
      },
      "source": [
        "<a href=\"https://colab.research.google.com/github/cristiandarioortegayubro/Ciencia-de-Datos-en-Ciencias-Economicas-con-Python/blob/master/Pandas_01.ipynb\" target=\"_parent\"><img src=\"https://colab.research.google.com/assets/colab-badge.svg\" alt=\"Open In Colab\"/></a>"
      ]
    },
    {
      "cell_type": "markdown",
      "metadata": {
        "id": "x2Ixyd2x4xTL",
        "colab_type": "text"
      },
      "source": [
        "# **Pandas 01** - ANÁLISIS DE DATOS - **INTRODUCCIÓN**"
      ]
    },
    {
      "cell_type": "markdown",
      "metadata": {
        "id": "aFDMU-W_5qMZ",
        "colab_type": "text"
      },
      "source": [
        "## Carga de librerías necesarias"
      ]
    },
    {
      "cell_type": "code",
      "metadata": {
        "id": "4w_e5ZvH4i_C",
        "colab_type": "code",
        "colab": {}
      },
      "source": [
        "import numpy as np\n",
        "import pandas as pd"
      ],
      "execution_count": 1,
      "outputs": []
    },
    {
      "cell_type": "markdown",
      "metadata": {
        "id": "jmti1EVS59zS",
        "colab_type": "text"
      },
      "source": [
        "## Creación de un DataFrame - Extracción de datos"
      ]
    },
    {
      "cell_type": "code",
      "metadata": {
        "id": "waIjiA-m6RE1",
        "colab_type": "code",
        "colab": {
          "base_uri": "https://localhost:8080/",
          "height": 71
        },
        "outputId": "ee57234e-3468-4fb7-d921-782c9e00bbdd"
      },
      "source": [
        "import pandas_datareader as pdr\n",
        "BTC2019 = pdr.DataReader(\"BTC-USD\", start='2019-01-01', end='2019-12-31', data_source='yahoo')"
      ],
      "execution_count": 2,
      "outputs": [
        {
          "output_type": "stream",
          "text": [
            "/usr/local/lib/python3.6/dist-packages/pandas_datareader/compat/__init__.py:7: FutureWarning: pandas.util.testing is deprecated. Use the functions in the public API at pandas.testing instead.\n",
            "  from pandas.util.testing import assert_frame_equal\n"
          ],
          "name": "stderr"
        }
      ]
    },
    {
      "cell_type": "code",
      "metadata": {
        "id": "Xh2tkAq06j0P",
        "colab_type": "code",
        "colab": {}
      },
      "source": [
        "df = pd.DataFrame(BTC2019)"
      ],
      "execution_count": 3,
      "outputs": []
    },
    {
      "cell_type": "markdown",
      "metadata": {
        "id": "bA50Me637Ci0",
        "colab_type": "text"
      },
      "source": [
        "## Tipos de datos del DataFrame y tamaño"
      ]
    },
    {
      "cell_type": "code",
      "metadata": {
        "id": "NhInl2Xr7Gke",
        "colab_type": "code",
        "colab": {
          "base_uri": "https://localhost:8080/",
          "height": 136
        },
        "outputId": "ce703a7c-8164-44a4-eab5-c36768c28291"
      },
      "source": [
        "df.dtypes"
      ],
      "execution_count": 4,
      "outputs": [
        {
          "output_type": "execute_result",
          "data": {
            "text/plain": [
              "High         float64\n",
              "Low          float64\n",
              "Open         float64\n",
              "Close        float64\n",
              "Volume         int64\n",
              "Adj Close    float64\n",
              "dtype: object"
            ]
          },
          "metadata": {
            "tags": []
          },
          "execution_count": 4
        }
      ]
    },
    {
      "cell_type": "code",
      "metadata": {
        "id": "TlxetqUoSeni",
        "colab_type": "code",
        "colab": {
          "base_uri": "https://localhost:8080/",
          "height": 238
        },
        "outputId": "96925704-d16a-4099-c887-18160d2d0240"
      },
      "source": [
        "df.info()"
      ],
      "execution_count": 5,
      "outputs": [
        {
          "output_type": "stream",
          "text": [
            "<class 'pandas.core.frame.DataFrame'>\n",
            "DatetimeIndex: 366 entries, 2019-01-01 to 2020-01-01\n",
            "Data columns (total 6 columns):\n",
            " #   Column     Non-Null Count  Dtype  \n",
            "---  ------     --------------  -----  \n",
            " 0   High       366 non-null    float64\n",
            " 1   Low        366 non-null    float64\n",
            " 2   Open       366 non-null    float64\n",
            " 3   Close      366 non-null    float64\n",
            " 4   Volume     366 non-null    int64  \n",
            " 5   Adj Close  366 non-null    float64\n",
            "dtypes: float64(5), int64(1)\n",
            "memory usage: 20.0 KB\n"
          ],
          "name": "stdout"
        }
      ]
    },
    {
      "cell_type": "code",
      "metadata": {
        "id": "IHtcTtEEtwPp",
        "colab_type": "code",
        "colab": {
          "base_uri": "https://localhost:8080/",
          "height": 34
        },
        "outputId": "17fafda2-839d-4d6e-e247-8a722b72cfeb"
      },
      "source": [
        "df.shape"
      ],
      "execution_count": 6,
      "outputs": [
        {
          "output_type": "execute_result",
          "data": {
            "text/plain": [
              "(366, 6)"
            ]
          },
          "metadata": {
            "tags": []
          },
          "execution_count": 6
        }
      ]
    },
    {
      "cell_type": "markdown",
      "metadata": {
        "id": "MYcHqX-t7aVv",
        "colab_type": "text"
      },
      "source": [
        "## Visualización de los datos del DataFrame"
      ]
    },
    {
      "cell_type": "code",
      "metadata": {
        "id": "HoA-1K7j7eYq",
        "colab_type": "code",
        "colab": {
          "base_uri": "https://localhost:8080/",
          "height": 235
        },
        "outputId": "f9be49e5-a009-40e8-e409-6c587a853970"
      },
      "source": [
        "df.head()"
      ],
      "execution_count": 7,
      "outputs": [
        {
          "output_type": "execute_result",
          "data": {
            "text/html": [
              "<div>\n",
              "<style scoped>\n",
              "    .dataframe tbody tr th:only-of-type {\n",
              "        vertical-align: middle;\n",
              "    }\n",
              "\n",
              "    .dataframe tbody tr th {\n",
              "        vertical-align: top;\n",
              "    }\n",
              "\n",
              "    .dataframe thead th {\n",
              "        text-align: right;\n",
              "    }\n",
              "</style>\n",
              "<table border=\"1\" class=\"dataframe\">\n",
              "  <thead>\n",
              "    <tr style=\"text-align: right;\">\n",
              "      <th></th>\n",
              "      <th>High</th>\n",
              "      <th>Low</th>\n",
              "      <th>Open</th>\n",
              "      <th>Close</th>\n",
              "      <th>Volume</th>\n",
              "      <th>Adj Close</th>\n",
              "    </tr>\n",
              "    <tr>\n",
              "      <th>Date</th>\n",
              "      <th></th>\n",
              "      <th></th>\n",
              "      <th></th>\n",
              "      <th></th>\n",
              "      <th></th>\n",
              "      <th></th>\n",
              "    </tr>\n",
              "  </thead>\n",
              "  <tbody>\n",
              "    <tr>\n",
              "      <th>2019-01-01</th>\n",
              "      <td>3850.913818</td>\n",
              "      <td>3707.231201</td>\n",
              "      <td>3746.713379</td>\n",
              "      <td>3843.520020</td>\n",
              "      <td>4324200990</td>\n",
              "      <td>3843.520020</td>\n",
              "    </tr>\n",
              "    <tr>\n",
              "      <th>2019-01-02</th>\n",
              "      <td>3947.981201</td>\n",
              "      <td>3817.409424</td>\n",
              "      <td>3849.216309</td>\n",
              "      <td>3943.409424</td>\n",
              "      <td>5244856835</td>\n",
              "      <td>3943.409424</td>\n",
              "    </tr>\n",
              "    <tr>\n",
              "      <th>2019-01-03</th>\n",
              "      <td>3935.685059</td>\n",
              "      <td>3826.222900</td>\n",
              "      <td>3931.048584</td>\n",
              "      <td>3836.741211</td>\n",
              "      <td>4530215218</td>\n",
              "      <td>3836.741211</td>\n",
              "    </tr>\n",
              "    <tr>\n",
              "      <th>2019-01-04</th>\n",
              "      <td>3865.934570</td>\n",
              "      <td>3783.853760</td>\n",
              "      <td>3832.040039</td>\n",
              "      <td>3857.717529</td>\n",
              "      <td>4847965467</td>\n",
              "      <td>3857.717529</td>\n",
              "    </tr>\n",
              "    <tr>\n",
              "      <th>2019-01-05</th>\n",
              "      <td>3904.903076</td>\n",
              "      <td>3836.900146</td>\n",
              "      <td>3851.973877</td>\n",
              "      <td>3845.194580</td>\n",
              "      <td>5137609823</td>\n",
              "      <td>3845.194580</td>\n",
              "    </tr>\n",
              "  </tbody>\n",
              "</table>\n",
              "</div>"
            ],
            "text/plain": [
              "                   High          Low  ...      Volume    Adj Close\n",
              "Date                                  ...                         \n",
              "2019-01-01  3850.913818  3707.231201  ...  4324200990  3843.520020\n",
              "2019-01-02  3947.981201  3817.409424  ...  5244856835  3943.409424\n",
              "2019-01-03  3935.685059  3826.222900  ...  4530215218  3836.741211\n",
              "2019-01-04  3865.934570  3783.853760  ...  4847965467  3857.717529\n",
              "2019-01-05  3904.903076  3836.900146  ...  5137609823  3845.194580\n",
              "\n",
              "[5 rows x 6 columns]"
            ]
          },
          "metadata": {
            "tags": []
          },
          "execution_count": 7
        }
      ]
    },
    {
      "cell_type": "code",
      "metadata": {
        "id": "wIa5ghMI7nfq",
        "colab_type": "code",
        "colab": {
          "base_uri": "https://localhost:8080/",
          "height": 235
        },
        "outputId": "49cdedb9-f858-4139-a42e-5230aae49294"
      },
      "source": [
        "df.tail()"
      ],
      "execution_count": 8,
      "outputs": [
        {
          "output_type": "execute_result",
          "data": {
            "text/html": [
              "<div>\n",
              "<style scoped>\n",
              "    .dataframe tbody tr th:only-of-type {\n",
              "        vertical-align: middle;\n",
              "    }\n",
              "\n",
              "    .dataframe tbody tr th {\n",
              "        vertical-align: top;\n",
              "    }\n",
              "\n",
              "    .dataframe thead th {\n",
              "        text-align: right;\n",
              "    }\n",
              "</style>\n",
              "<table border=\"1\" class=\"dataframe\">\n",
              "  <thead>\n",
              "    <tr style=\"text-align: right;\">\n",
              "      <th></th>\n",
              "      <th>High</th>\n",
              "      <th>Low</th>\n",
              "      <th>Open</th>\n",
              "      <th>Close</th>\n",
              "      <th>Volume</th>\n",
              "      <th>Adj Close</th>\n",
              "    </tr>\n",
              "    <tr>\n",
              "      <th>Date</th>\n",
              "      <th></th>\n",
              "      <th></th>\n",
              "      <th></th>\n",
              "      <th></th>\n",
              "      <th></th>\n",
              "      <th></th>\n",
              "    </tr>\n",
              "  </thead>\n",
              "  <tbody>\n",
              "    <tr>\n",
              "      <th>2019-12-28</th>\n",
              "      <td>7399.041016</td>\n",
              "      <td>7286.905273</td>\n",
              "      <td>7289.031250</td>\n",
              "      <td>7317.990234</td>\n",
              "      <td>21365673026</td>\n",
              "      <td>7317.990234</td>\n",
              "    </tr>\n",
              "    <tr>\n",
              "      <th>2019-12-29</th>\n",
              "      <td>7513.948242</td>\n",
              "      <td>7279.865234</td>\n",
              "      <td>7317.647461</td>\n",
              "      <td>7422.652832</td>\n",
              "      <td>22445257701</td>\n",
              "      <td>7422.652832</td>\n",
              "    </tr>\n",
              "    <tr>\n",
              "      <th>2019-12-30</th>\n",
              "      <td>7454.824219</td>\n",
              "      <td>7276.308105</td>\n",
              "      <td>7420.272949</td>\n",
              "      <td>7292.995117</td>\n",
              "      <td>22874131671</td>\n",
              "      <td>7292.995117</td>\n",
              "    </tr>\n",
              "    <tr>\n",
              "      <th>2019-12-31</th>\n",
              "      <td>7335.290039</td>\n",
              "      <td>7169.777832</td>\n",
              "      <td>7294.438965</td>\n",
              "      <td>7193.599121</td>\n",
              "      <td>21167946112</td>\n",
              "      <td>7193.599121</td>\n",
              "    </tr>\n",
              "    <tr>\n",
              "      <th>2020-01-01</th>\n",
              "      <td>7254.330566</td>\n",
              "      <td>7174.944336</td>\n",
              "      <td>7194.892090</td>\n",
              "      <td>7200.174316</td>\n",
              "      <td>18565664996</td>\n",
              "      <td>7200.174316</td>\n",
              "    </tr>\n",
              "  </tbody>\n",
              "</table>\n",
              "</div>"
            ],
            "text/plain": [
              "                   High          Low  ...       Volume    Adj Close\n",
              "Date                                  ...                          \n",
              "2019-12-28  7399.041016  7286.905273  ...  21365673026  7317.990234\n",
              "2019-12-29  7513.948242  7279.865234  ...  22445257701  7422.652832\n",
              "2019-12-30  7454.824219  7276.308105  ...  22874131671  7292.995117\n",
              "2019-12-31  7335.290039  7169.777832  ...  21167946112  7193.599121\n",
              "2020-01-01  7254.330566  7174.944336  ...  18565664996  7200.174316\n",
              "\n",
              "[5 rows x 6 columns]"
            ]
          },
          "metadata": {
            "tags": []
          },
          "execution_count": 8
        }
      ]
    },
    {
      "cell_type": "code",
      "metadata": {
        "id": "825cQZj1768w",
        "colab_type": "code",
        "colab": {
          "base_uri": "https://localhost:8080/",
          "height": 153
        },
        "outputId": "4f4fe884-6292-4ea9-95bf-fcefe5a9db67"
      },
      "source": [
        "df.index"
      ],
      "execution_count": 9,
      "outputs": [
        {
          "output_type": "execute_result",
          "data": {
            "text/plain": [
              "DatetimeIndex(['2019-01-01', '2019-01-02', '2019-01-03', '2019-01-04',\n",
              "               '2019-01-05', '2019-01-06', '2019-01-07', '2019-01-08',\n",
              "               '2019-01-09', '2019-01-10',\n",
              "               ...\n",
              "               '2019-12-23', '2019-12-24', '2019-12-25', '2019-12-26',\n",
              "               '2019-12-27', '2019-12-28', '2019-12-29', '2019-12-30',\n",
              "               '2019-12-31', '2020-01-01'],\n",
              "              dtype='datetime64[ns]', name='Date', length=366, freq=None)"
            ]
          },
          "metadata": {
            "tags": []
          },
          "execution_count": 9
        }
      ]
    },
    {
      "cell_type": "code",
      "metadata": {
        "id": "-X4KBRTc8APP",
        "colab_type": "code",
        "colab": {
          "base_uri": "https://localhost:8080/",
          "height": 34
        },
        "outputId": "e47f1627-f0cb-4cea-f3e9-292869462020"
      },
      "source": [
        "df.columns"
      ],
      "execution_count": 10,
      "outputs": [
        {
          "output_type": "execute_result",
          "data": {
            "text/plain": [
              "Index(['High', 'Low', 'Open', 'Close', 'Volume', 'Adj Close'], dtype='object')"
            ]
          },
          "metadata": {
            "tags": []
          },
          "execution_count": 10
        }
      ]
    }
  ]
}
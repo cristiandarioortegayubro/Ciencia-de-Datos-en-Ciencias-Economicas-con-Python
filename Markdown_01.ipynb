{
  "nbformat": 4,
  "nbformat_minor": 0,
  "metadata": {
    "colab": {
      "name": "Markdown 01.ipynb",
      "provenance": [],
      "collapsed_sections": [
        "lmCYzb98BN4W",
        "bhD0dmOwS0SS",
        "168mQYbVSYDC",
        "Ci9ezlN6ShFE"
      ],
      "include_colab_link": true
    },
    "kernelspec": {
      "name": "python3",
      "display_name": "Python 3"
    }
  },
  "cells": [
    {
      "cell_type": "markdown",
      "metadata": {
        "id": "view-in-github",
        "colab_type": "text"
      },
      "source": [
        "<a href=\"https://colab.research.google.com/github/cristiandarioortegayubro/Ciencia-de-Datos-en-Ciencias-Economicas-con-Python/blob/master/Markdown_01.ipynb\" target=\"_parent\"><img src=\"https://colab.research.google.com/assets/colab-badge.svg\" alt=\"Open In Colab\"/></a>"
      ]
    },
    {
      "cell_type": "markdown",
      "metadata": {
        "id": "8mN7FDPHVjJO",
        "colab_type": "text"
      },
      "source": [
        "# **Markdown**\n"
      ]
    },
    {
      "cell_type": "markdown",
      "metadata": {
        "id": "lmCYzb98BN4W",
        "colab_type": "text"
      },
      "source": [
        "## **Formatos de Textos** "
      ]
    },
    {
      "cell_type": "markdown",
      "metadata": {
        "id": "xtHXQJjuLH8h",
        "colab_type": "text"
      },
      "source": [
        "### **Títulos**"
      ]
    },
    {
      "cell_type": "markdown",
      "metadata": {
        "id": "YA4Cq3vsBWTW",
        "colab_type": "text"
      },
      "source": [
        "Los títulos se definen agregando el símbolo # antes del texto, depende la cantidad de símbolos que se agreguen, será el tipo de título, así para el título 1 se agrega un símbolo ## Título 1, para el título 2, dos símbolos ## Título 2, y así sucesivamente, nótese que el título 5 y el título 6 tienen el mismo tamaño de letra.\n",
        "# Título 1\n",
        "## Título 2\n",
        "### Título 3\n",
        "#### Título 4\n",
        "##### Título 5\n",
        "###### Título 6"
      ]
    },
    {
      "cell_type": "markdown",
      "metadata": {
        "id": "W8yiHRoKLXt5",
        "colab_type": "text"
      },
      "source": [
        "### **Formatos de Negrita y Cursiva**\n"
      ]
    },
    {
      "cell_type": "markdown",
      "metadata": {
        "id": "wcifxEcGGRt4",
        "colab_type": "text"
      },
      "source": [
        "Los formatos de negrita para el texto se logran colocando antes de la palabra que se quiere en negrita dos veces el símbolo asterisco y donde se quiere que finalice otros dos asteriscos, es decir **dos veces**.\n",
        "\n",
        "En cambio para lograr la cursiva con *un solo símbolo asterisco al inicio y final de lo que se quiere con cursiva* se logra que la letra obtenga ese aspecto.\n",
        "\n",
        "**Para ver la codificación, se recomienda hacer doble clic sobre esta celda de texto.**\n",
        "\n",
        "Ahora bien, para lograr la negrita y la cursiva, entonces utilizaremos tres símbolos asteriscos ***como puede apreciarse***.\n"
      ]
    },
    {
      "cell_type": "markdown",
      "metadata": {
        "id": "WHIEGrtxLker",
        "colab_type": "text"
      },
      "source": [
        "### **Listas, Numeración y Listas Anidadas**\n"
      ]
    },
    {
      "cell_type": "markdown",
      "metadata": {
        "id": "cQG_qRmXLEVt",
        "colab_type": "text"
      },
      "source": [
        "Las listas se pueden crear con el símbolo +, - o el símbolo *\n",
        "+ Primero se pone el símbolo,\n",
        "+ Luego se escribe el texto, \n",
        "+ y se repite la operación tanto como se necesite.\n",
        "\n",
        "Para la numeración, en vez de usar un símbolo, se puede colocar el número seguido de un punto, es decir 1. cada vez que se inicie una oración perteneciente a una numeración. Se puede colocar todas las veces 1., y cuando se ejecute la celda, se numerará como corresponde.\n",
        "1. Coloco el 1. y empiezo a escribir,\n",
        "1. Vuelvo a colocar 1., pero en la lista se va a mostrar el 2.,\n",
        "1. Repito la operación tantas veces como necesite numerar.\n",
        "\n",
        "**Para ver la codificación, se recomienda hacer doble clic sobre esta celda de texto.**\n",
        "\n",
        "Para generar una lista anidada, se debe dar cuatro espacios para incrementar el nivel, es decir\n",
        "- Empiezo en el nivel uno,\n",
        "    - Realizo cuatro espacios, para el nivel dos,\n",
        "    - Y continuo las veces necesarias, \n",
        "    - Si quiero incrementar el nivel, cuatro espacios más,\n",
        "        - y queda de esta forma,\n",
        "        - nótese que automáticamente se cambia el símbolo de la lista.\n",
        "\n",
        "Lo mismo resulta en la numeración.\n",
        "1. Comienzo el nivel uno con 1.,\n",
        "    1. Doy cuatro espacios para el nivel dos,\n",
        "    1. La numeración se reinicia en el nivel dos,\n",
        "    1. Concluido el nivel dos, podría subir de nivel o volver al nivel 1,\n",
        "1. Si vuelvo al nivel dos, debería continuar la numeración.\n",
        "\n",
        "Y también puede combinarse, como el siguiente ejemplo:\n",
        "1. Comienzo la numeración, y subo de nivel con una lista,\n",
        "    - Empiezo el nivel 2 con una lista,\n",
        "    - Continúo las veces necesarias,\n",
        "    - Nótese que el símbolo corresponde al nivel 2, \n",
        "1. Vuelvo al nivel uno numerado.\n"
      ]
    },
    {
      "cell_type": "markdown",
      "metadata": {
        "id": "KVwC-oIeMPnX",
        "colab_type": "text"
      },
      "source": [
        "## **Expresiones matemáticas** \n",
        "\n",
        "https://en.wikibooks.org/wiki/LaTeX/Mathematics#List_of_mathematical_symbols"
      ]
    },
    {
      "cell_type": "markdown",
      "metadata": {
        "id": "a3_q_QnFQa_0",
        "colab_type": "text"
      },
      "source": [
        "Las expresiones matemáticas son muy utilizadas en el campo de las Ciencias Económicas, para empezar a escribir una de ellas, se debe colocar antes del código, el símbolo $. Este símbolo se coloca una vez al inicio y al final de la expresión matemática, si la misma es en una línea.\n",
        "\n",
        "Pero se colocará dos veces, cuando la expresión matemática utiliza dos líneas, como lo hace en una fracción. \n",
        "\n",
        "**Se puede visualizar los ejemplos, haciendo doble clic en esta celda de texto, o haciendo clic en el lápiz de las herramientas de edición de celda.**\n",
        "\n",
        "$$y_t = \\frac{\\sum_{i=0}^t w_i x_{t-i}}{\\sum_{i=0}^t w_i}$$\n",
        "\n",
        "Los comandos que se utilizan para una expresión matemática, corresponden a la sintaxis de LaTeX. \n",
        "\n",
        "Otros ejemplos:\n",
        "\n",
        "$$ y_t = \\frac{x_t + (1 - \\alpha)x_{t-1} + (1 - \\alpha)^2 x_{t-2} +(1 - \\alpha)^t x_{0}}{1 + (1 - \\alpha) + (1 - \\alpha)^2 + (1 - \\alpha)^t} $$\n",
        "\n",
        "Para definir un conjunto de variables:\n",
        "\n",
        "$$ \\begin{split}y_0 &= x_0 \\\\\n",
        "y_t &= (1 - \\alpha) y_{t-1} + \\alpha x_t,\\end{split}$$\n",
        "\n",
        "Si queremos expresar utilizando una llave:\n",
        "\n",
        "$$\\begin{split}w_i = \\begin{cases}\n",
        "    \\alpha (1 - \\alpha)^i & \\text{if } i < t \\\\\n",
        "    (1 - \\alpha)^i        & \\text{if } i = t.\n",
        "\\end{cases}\\end{split}$$\n",
        "\n",
        "Otra fracción:\n",
        "\n",
        "$$\\frac{\\left(\\sum_{i=0}^t w_i\\right)^2}{\\left(\\sum_{i=0}^t w_i\\right)^2 - \\sum_{i=0}^t w_i^2}.$$\n",
        "\n",
        "Ejemplo matemático:\n",
        "\n",
        "$$x = \\frac{-b \\pm \\sqrt{b^2-4ac}}{2a}$$\n"
      ]
    },
    {
      "cell_type": "markdown",
      "metadata": {
        "id": "bhD0dmOwS0SS",
        "colab_type": "text"
      },
      "source": [
        "### **Algunas letras griegas**"
      ]
    },
    {
      "cell_type": "markdown",
      "metadata": {
        "id": "z7uc5jWfaC3A",
        "colab_type": "text"
      },
      "source": [
        "+ La letra alfa se escribe \\alpha y se visualiza $\\alpha$\n",
        "+ La letra beta se escribe \\beta y se visualiza $\\beta$\n",
        "+ La letra gama se escribe \\gamma y se visualiza $\\gamma$\n",
        "+ La letra delta se escribe \\delta y se visualiza $\\delta$\n",
        "+ La letra epsilon se escribe \\epsilon y se visualiza $\\epsilon$\n",
        "+ La letra omega se escribe \\omega y se visualiza $\\omega$\n",
        "+ La letra pi se escribe \\pi y se visualiza $\\pi$\n",
        "+ La letra tita se escribe \\theta y se visualiza $\\theta$\n",
        "+ La letra kapa se escribe \\kappa y se visualiza $\\kappa$\n",
        "+ La letra lambda se escribe \\lambda y se visualiza $\\lambda$\n",
        "+ La letra sigma se escribe \\sigma y se visualiza $\\sigma\\$\n"
      ]
    },
    {
      "cell_type": "markdown",
      "metadata": {
        "id": "CxfOlmZmFQS1",
        "colab_type": "text"
      },
      "source": [
        "### **Símbolos matemáticos**"
      ]
    },
    {
      "cell_type": "markdown",
      "metadata": {
        "id": "mdhv23jQS1jG",
        "colab_type": "text"
      },
      "source": [
        ""
      ]
    },
    {
      "cell_type": "markdown",
      "metadata": {
        "id": "zHOonyCvbTzT",
        "colab_type": "text"
      },
      "source": [
        "Pero las matemáticas que utilizamos en las Ciencias Económicas tienen muchos símbolos, y algunos de ellos pueden escribirse directamente desde el teclado:\n",
        "\n",
        "+\n",
        "-\n",
        "*\n",
        "=\n",
        "!\n",
        "/\n",
        "( )\n",
        "[ ]\n",
        "< >\n",
        ":\n",
        "'\n",
        ", y otros.\n",
        "Para el resto de los simbolos matemáticos, hacer clic en clic en el lápiz de las herramientas de edición de celda para ver la sintaxis, **sin olvidar que la sintaxis tiene que estar entre signos $**."
      ]
    },
    {
      "cell_type": "markdown",
      "metadata": {
        "id": "168mQYbVSYDC",
        "colab_type": "text"
      },
      "source": [
        "#### **Símbolos de relación**"
      ]
    },
    {
      "cell_type": "markdown",
      "metadata": {
        "id": "C4qGOjODHz6G",
        "colab_type": "text"
      },
      "source": [
        "\n",
        "+ Se escribe \\leq para el símbolo $\\leq$\n",
        "+ Se escribe \\ll para el símbolo $\\ll$\n",
        "+ Se escribe \\subset para el símbolo $\\subset$\n",
        "+ Se escribe \\subseteq para el símbolo $\\subseteq$\n",
        "+ Se escribe \\nsubseteq para el símbolo $\\nsubseteq$\n",
        "+ Se escribe \\sqsubset para el símbolo $\\sqsubset$\n",
        "+ Se escribe \\sqsubseteq para el símbolo $\\sqsubseteq$\n",
        "+ Se escribe \\preceq para el símbolo $\\preceq$\n",
        "+ Se escribe \\therefore para el símbolo $\\therefore$\n",
        "+ Se escribe \\geq para el símbolo $\\geq$\n",
        "+ Se escribe \\gg para el símbolo $\\gg$\n",
        "+ Se escribe \\supset para el símbolo $\\supset$\n",
        "+ Se escribe \\supseteq para el símbolo $\\supseteq$\n",
        "+ Se escribe \\nsupseteq para el símbolo $\\nsupseteq$\n",
        "+ Se escribe \\sqsupset para el símbolo $\\sqsupset$\n",
        "+ Se escribe \\sqsupseteq para el símbolo $\\sqsupseteq$\n",
        "+ Se escribe \\succeq para el símbolo $\\succeq$\n",
        "+ Se escribe \\because para el símbolo $\\because$"
      ]
    },
    {
      "cell_type": "markdown",
      "metadata": {
        "id": "Ci9ezlN6ShFE",
        "colab_type": "text"
      },
      "source": [
        "#### **Algunos símbolos de operaciones binarias**"
      ]
    },
    {
      "cell_type": "markdown",
      "metadata": {
        "id": "o_XVlzH3PoVm",
        "colab_type": "text"
      },
      "source": [
        "+ Se escribe \\times para el símbolo $\\times$\n",
        "+ Se escribe \\div para el símbolo $\\div$\n",
        "+ Se escribe \\ast para el símbolo $\\ast$\n",
        "+ Se escribe \\star para el símbolo $\\star$\n",
        "+ Se escribe \\vee para el símbolo $\\vee$\n",
        "+ Se escribe \\wedge para el símbolo $\\wedge$\n",
        "+ Se escribe \\cdot para el símbolo $\\cdot$\n",
        "+ Se escribe \\bullet para el símbolo $\\bullet$\n",
        "+ Se escribe \\otimes para el símbolo $\\otimes$\n",
        "+ Se escribe \\odot para el símbolo $\\odot$\n",
        "+ Se escribe \\setminus para el símbolo $\\setminus$\n",
        "+ Se escribe \\diamond para el símbolo $\\diamond$\n",
        "+ Se escribe \\bigtriangleup para el símbolo $\\bigtriangleup$\n",
        "+ Se escribe \\bigtriangledown para el símbolo $\\bigtriangledown$\n"
      ]
    },
    {
      "cell_type": "markdown",
      "metadata": {
        "id": "muaTHkGnSmoj",
        "colab_type": "text"
      },
      "source": [
        "#### **Algunos símbolos de notaciones lógicas**"
      ]
    },
    {
      "cell_type": "markdown",
      "metadata": {
        "id": "pu_gC0LBRzt7",
        "colab_type": "text"
      },
      "source": [
        "+ Se escribe \\exists para el símbolo $\\exists$\n",
        "+ Se escribe \\nexists para el símbolo $\\nexists$\n",
        "+ Se escribe \\forall para el símbolo $\\forall$\n",
        "+ Se escribe \\subset para el símbolo $\\subset$\n",
        "+ Se escribe \\supset para el símbolo $\\supset$\n",
        "+ Se escribe \\in para el símbolo $\\in$\n",
        "+ Se escribe \\notin para el símbolo $\\notin$\n",
        "+ Se escribe \\ni para el símbolo $\\ni$\n",
        "+ Se escribe \\implies para el símbolo $\\implies$"
      ]
    }
  ]
}
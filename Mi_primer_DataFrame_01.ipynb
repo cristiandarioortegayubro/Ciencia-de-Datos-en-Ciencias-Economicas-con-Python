{
  "nbformat": 4,
  "nbformat_minor": 0,
  "metadata": {
    "colab": {
      "name": "Mi primer DataFrame 01.ipynb",
      "provenance": [],
      "authorship_tag": "ABX9TyMQetsnL3l4nq1hLfwFw/oL",
      "include_colab_link": true
    },
    "kernelspec": {
      "name": "python3",
      "display_name": "Python 3"
    }
  },
  "cells": [
    {
      "cell_type": "markdown",
      "metadata": {
        "id": "view-in-github",
        "colab_type": "text"
      },
      "source": [
        "<a href=\"https://colab.research.google.com/github/cristiandarioortegayubro/Ciencia-de-Datos-en-Ciencias-Economicas-con-Python/blob/master/Mi_primer_DataFrame_01.ipynb\" target=\"_parent\"><img src=\"https://colab.research.google.com/assets/colab-badge.svg\" alt=\"Open In Colab\"/></a>"
      ]
    },
    {
      "cell_type": "markdown",
      "metadata": {
        "id": "SbiE1UxgWqCM"
      },
      "source": [
        "# **Pandas** - Mi primer DataFrame - **01**"
      ]
    },
    {
      "cell_type": "markdown",
      "metadata": {
        "id": "WkiCGmilXTbQ"
      },
      "source": [
        "## Carga de librerías necesarias"
      ]
    },
    {
      "cell_type": "code",
      "metadata": {
        "id": "_cRLN8CEWjch",
        "outputId": "2378c568-d9f8-4c03-f959-ca66e7e93cd2",
        "colab": {
          "base_uri": "https://localhost:8080/",
          "height": 71
        }
      },
      "source": [
        "import numpy as np\n",
        "import pandas as pd\n",
        "import pandas_datareader as data"
      ],
      "execution_count": null,
      "outputs": [
        {
          "output_type": "stream",
          "text": [
            "/usr/local/lib/python3.6/dist-packages/pandas_datareader/compat/__init__.py:7: FutureWarning: pandas.util.testing is deprecated. Use the functions in the public API at pandas.testing instead.\n",
            "  from pandas.util.testing import assert_frame_equal\n"
          ],
          "name": "stderr"
        }
      ]
    },
    {
      "cell_type": "markdown",
      "metadata": {
        "id": "OVhkydTOxD7M"
      },
      "source": [
        "## Extracción de datos remotos con datareader"
      ]
    },
    {
      "cell_type": "code",
      "metadata": {
        "id": "uiCNMtKuxHmY"
      },
      "source": [
        "BTC2019 = data.DataReader(\"BTC-USD\", start=\"2019-01-01\", end=\"2019-12-31\", data_source=\"yahoo\")"
      ],
      "execution_count": null,
      "outputs": []
    },
    {
      "cell_type": "markdown",
      "metadata": {
        "id": "9sS0L0HUt1cr"
      },
      "source": [
        "## Creación del primer DataFrame"
      ]
    },
    {
      "cell_type": "code",
      "metadata": {
        "id": "mrCvcDu9uEps"
      },
      "source": [
        "df = pd.DataFrame(BTC2019)"
      ],
      "execution_count": null,
      "outputs": []
    },
    {
      "cell_type": "markdown",
      "metadata": {
        "id": "dkSo23uHw78h"
      },
      "source": [
        "## Consultando el primer DataFrame"
      ]
    },
    {
      "cell_type": "code",
      "metadata": {
        "id": "Z8ZbtzEexEGo",
        "outputId": "90b10cb9-6bbc-4da9-f114-4c07ea47ee1b",
        "colab": {
          "base_uri": "https://localhost:8080/",
          "height": 235
        }
      },
      "source": [
        "df.head()"
      ],
      "execution_count": null,
      "outputs": [
        {
          "output_type": "execute_result",
          "data": {
            "text/html": [
              "<div>\n",
              "<style scoped>\n",
              "    .dataframe tbody tr th:only-of-type {\n",
              "        vertical-align: middle;\n",
              "    }\n",
              "\n",
              "    .dataframe tbody tr th {\n",
              "        vertical-align: top;\n",
              "    }\n",
              "\n",
              "    .dataframe thead th {\n",
              "        text-align: right;\n",
              "    }\n",
              "</style>\n",
              "<table border=\"1\" class=\"dataframe\">\n",
              "  <thead>\n",
              "    <tr style=\"text-align: right;\">\n",
              "      <th></th>\n",
              "      <th>High</th>\n",
              "      <th>Low</th>\n",
              "      <th>Open</th>\n",
              "      <th>Close</th>\n",
              "      <th>Volume</th>\n",
              "      <th>Adj Close</th>\n",
              "    </tr>\n",
              "    <tr>\n",
              "      <th>Date</th>\n",
              "      <th></th>\n",
              "      <th></th>\n",
              "      <th></th>\n",
              "      <th></th>\n",
              "      <th></th>\n",
              "      <th></th>\n",
              "    </tr>\n",
              "  </thead>\n",
              "  <tbody>\n",
              "    <tr>\n",
              "      <th>2019-01-01</th>\n",
              "      <td>3850.913818</td>\n",
              "      <td>3707.231201</td>\n",
              "      <td>3746.713379</td>\n",
              "      <td>3843.520020</td>\n",
              "      <td>4324200990</td>\n",
              "      <td>3843.520020</td>\n",
              "    </tr>\n",
              "    <tr>\n",
              "      <th>2019-01-02</th>\n",
              "      <td>3947.981201</td>\n",
              "      <td>3817.409424</td>\n",
              "      <td>3849.216309</td>\n",
              "      <td>3943.409424</td>\n",
              "      <td>5244856835</td>\n",
              "      <td>3943.409424</td>\n",
              "    </tr>\n",
              "    <tr>\n",
              "      <th>2019-01-03</th>\n",
              "      <td>3935.685059</td>\n",
              "      <td>3826.222900</td>\n",
              "      <td>3931.048584</td>\n",
              "      <td>3836.741211</td>\n",
              "      <td>4530215218</td>\n",
              "      <td>3836.741211</td>\n",
              "    </tr>\n",
              "    <tr>\n",
              "      <th>2019-01-04</th>\n",
              "      <td>3865.934570</td>\n",
              "      <td>3783.853760</td>\n",
              "      <td>3832.040039</td>\n",
              "      <td>3857.717529</td>\n",
              "      <td>4847965467</td>\n",
              "      <td>3857.717529</td>\n",
              "    </tr>\n",
              "    <tr>\n",
              "      <th>2019-01-05</th>\n",
              "      <td>3904.903076</td>\n",
              "      <td>3836.900146</td>\n",
              "      <td>3851.973877</td>\n",
              "      <td>3845.194580</td>\n",
              "      <td>5137609823</td>\n",
              "      <td>3845.194580</td>\n",
              "    </tr>\n",
              "  </tbody>\n",
              "</table>\n",
              "</div>"
            ],
            "text/plain": [
              "                   High          Low  ...      Volume    Adj Close\n",
              "Date                                  ...                         \n",
              "2019-01-01  3850.913818  3707.231201  ...  4324200990  3843.520020\n",
              "2019-01-02  3947.981201  3817.409424  ...  5244856835  3943.409424\n",
              "2019-01-03  3935.685059  3826.222900  ...  4530215218  3836.741211\n",
              "2019-01-04  3865.934570  3783.853760  ...  4847965467  3857.717529\n",
              "2019-01-05  3904.903076  3836.900146  ...  5137609823  3845.194580\n",
              "\n",
              "[5 rows x 6 columns]"
            ]
          },
          "metadata": {
            "tags": []
          },
          "execution_count": 4
        }
      ]
    },
    {
      "cell_type": "code",
      "metadata": {
        "id": "b_-jra0hzoSA",
        "outputId": "6cda75b2-ad9f-4028-dfde-220a0033459b",
        "colab": {
          "base_uri": "https://localhost:8080/",
          "height": 235
        }
      },
      "source": [
        "df.tail()"
      ],
      "execution_count": null,
      "outputs": [
        {
          "output_type": "execute_result",
          "data": {
            "text/html": [
              "<div>\n",
              "<style scoped>\n",
              "    .dataframe tbody tr th:only-of-type {\n",
              "        vertical-align: middle;\n",
              "    }\n",
              "\n",
              "    .dataframe tbody tr th {\n",
              "        vertical-align: top;\n",
              "    }\n",
              "\n",
              "    .dataframe thead th {\n",
              "        text-align: right;\n",
              "    }\n",
              "</style>\n",
              "<table border=\"1\" class=\"dataframe\">\n",
              "  <thead>\n",
              "    <tr style=\"text-align: right;\">\n",
              "      <th></th>\n",
              "      <th>High</th>\n",
              "      <th>Low</th>\n",
              "      <th>Open</th>\n",
              "      <th>Close</th>\n",
              "      <th>Volume</th>\n",
              "      <th>Adj Close</th>\n",
              "    </tr>\n",
              "    <tr>\n",
              "      <th>Date</th>\n",
              "      <th></th>\n",
              "      <th></th>\n",
              "      <th></th>\n",
              "      <th></th>\n",
              "      <th></th>\n",
              "      <th></th>\n",
              "    </tr>\n",
              "  </thead>\n",
              "  <tbody>\n",
              "    <tr>\n",
              "      <th>2019-12-28</th>\n",
              "      <td>7399.041016</td>\n",
              "      <td>7286.905273</td>\n",
              "      <td>7289.031250</td>\n",
              "      <td>7317.990234</td>\n",
              "      <td>21365673026</td>\n",
              "      <td>7317.990234</td>\n",
              "    </tr>\n",
              "    <tr>\n",
              "      <th>2019-12-29</th>\n",
              "      <td>7513.948242</td>\n",
              "      <td>7279.865234</td>\n",
              "      <td>7317.647461</td>\n",
              "      <td>7422.652832</td>\n",
              "      <td>22445257701</td>\n",
              "      <td>7422.652832</td>\n",
              "    </tr>\n",
              "    <tr>\n",
              "      <th>2019-12-30</th>\n",
              "      <td>7454.824219</td>\n",
              "      <td>7276.308105</td>\n",
              "      <td>7420.272949</td>\n",
              "      <td>7292.995117</td>\n",
              "      <td>22874131671</td>\n",
              "      <td>7292.995117</td>\n",
              "    </tr>\n",
              "    <tr>\n",
              "      <th>2019-12-31</th>\n",
              "      <td>7335.290039</td>\n",
              "      <td>7169.777832</td>\n",
              "      <td>7294.438965</td>\n",
              "      <td>7193.599121</td>\n",
              "      <td>21167946112</td>\n",
              "      <td>7193.599121</td>\n",
              "    </tr>\n",
              "    <tr>\n",
              "      <th>2020-01-01</th>\n",
              "      <td>7254.330566</td>\n",
              "      <td>7174.944336</td>\n",
              "      <td>7194.892090</td>\n",
              "      <td>7200.174316</td>\n",
              "      <td>18565664996</td>\n",
              "      <td>7200.174316</td>\n",
              "    </tr>\n",
              "  </tbody>\n",
              "</table>\n",
              "</div>"
            ],
            "text/plain": [
              "                   High          Low  ...       Volume    Adj Close\n",
              "Date                                  ...                          \n",
              "2019-12-28  7399.041016  7286.905273  ...  21365673026  7317.990234\n",
              "2019-12-29  7513.948242  7279.865234  ...  22445257701  7422.652832\n",
              "2019-12-30  7454.824219  7276.308105  ...  22874131671  7292.995117\n",
              "2019-12-31  7335.290039  7169.777832  ...  21167946112  7193.599121\n",
              "2020-01-01  7254.330566  7174.944336  ...  18565664996  7200.174316\n",
              "\n",
              "[5 rows x 6 columns]"
            ]
          },
          "metadata": {
            "tags": []
          },
          "execution_count": 5
        }
      ]
    },
    {
      "cell_type": "code",
      "metadata": {
        "id": "_7StbpfGB0T0",
        "outputId": "5ed96989-dff4-4627-b483-fc301029333e",
        "colab": {
          "base_uri": "https://localhost:8080/",
          "height": 34
        }
      },
      "source": [
        "df.shape"
      ],
      "execution_count": null,
      "outputs": [
        {
          "output_type": "execute_result",
          "data": {
            "text/plain": [
              "(366, 6)"
            ]
          },
          "metadata": {
            "tags": []
          },
          "execution_count": 7
        }
      ]
    },
    {
      "cell_type": "code",
      "metadata": {
        "id": "vf2UZBdbCfdH",
        "outputId": "70a54df1-0664-4e71-c3b6-7b7a7b6984e6",
        "colab": {
          "base_uri": "https://localhost:8080/",
          "height": 34
        }
      },
      "source": [
        "df.columns"
      ],
      "execution_count": null,
      "outputs": [
        {
          "output_type": "execute_result",
          "data": {
            "text/plain": [
              "Index(['High', 'Low', 'Open', 'Close', 'Volume', 'Adj Close'], dtype='object')"
            ]
          },
          "metadata": {
            "tags": []
          },
          "execution_count": 9
        }
      ]
    }
  ]
}
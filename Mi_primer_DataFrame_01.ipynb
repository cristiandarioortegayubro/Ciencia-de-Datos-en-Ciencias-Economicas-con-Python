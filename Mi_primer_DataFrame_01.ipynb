{
  "nbformat": 4,
  "nbformat_minor": 0,
  "metadata": {
    "colab": {
      "name": "Mi primer DataFrame 01.ipynb",
      "provenance": [],
      "authorship_tag": "ABX9TyNOgqZwoWYL9I05JC12yAqW",
      "include_colab_link": true
    },
    "kernelspec": {
      "name": "python3",
      "display_name": "Python 3"
    }
  },
  "cells": [
    {
      "cell_type": "markdown",
      "metadata": {
        "id": "view-in-github",
        "colab_type": "text"
      },
      "source": [
        "<a href=\"https://colab.research.google.com/github/cristiandarioortegayubro/Ciencia-de-Datos-en-Ciencias-Economicas-con-Python/blob/master/Mi_primer_DataFrame_01.ipynb\" target=\"_parent\"><img src=\"https://colab.research.google.com/assets/colab-badge.svg\" alt=\"Open In Colab\"/></a>"
      ]
    },
    {
      "cell_type": "markdown",
      "metadata": {
        "id": "SbiE1UxgWqCM"
      },
      "source": [
        "# **Pandas** - Mi primer DataFrame - **01**"
      ]
    },
    {
      "cell_type": "markdown",
      "metadata": {
        "id": "WkiCGmilXTbQ"
      },
      "source": [
        "## Carga de librerías necesarias"
      ]
    },
    {
      "cell_type": "code",
      "metadata": {
        "id": "_cRLN8CEWjch"
      },
      "source": [
        ""
      ],
      "execution_count": null,
      "outputs": []
    }
  ]
}
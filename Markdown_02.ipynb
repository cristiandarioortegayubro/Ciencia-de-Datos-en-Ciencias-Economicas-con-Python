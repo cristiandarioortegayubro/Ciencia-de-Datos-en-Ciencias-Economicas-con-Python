{
  "nbformat": 4,
  "nbformat_minor": 0,
  "metadata": {
    "colab": {
      "name": "Markdown 02.ipynb",
      "provenance": [],
      "toc_visible": true,
      "authorship_tag": "ABX9TyN9OxGJ4mjTzutg0vWU/yFx",
      "include_colab_link": true
    },
    "kernelspec": {
      "name": "python3",
      "display_name": "Python 3"
    }
  },
  "cells": [
    {
      "cell_type": "markdown",
      "metadata": {
        "id": "view-in-github",
        "colab_type": "text"
      },
      "source": [
        "<a href=\"https://colab.research.google.com/github/cristiandarioortegayubro/Ciencia-de-Datos-en-Ciencias-Economicas-con-Python/blob/master/Markdown_02.ipynb\" target=\"_parent\"><img src=\"https://colab.research.google.com/assets/colab-badge.svg\" alt=\"Open In Colab\"/></a>"
      ]
    },
    {
      "cell_type": "markdown",
      "metadata": {
        "id": "jABvJ1N6yE7D",
        "colab_type": "text"
      },
      "source": [
        "#Nombre del Proyecto\n",
        "Título 1"
      ]
    },
    {
      "cell_type": "markdown",
      "metadata": {
        "id": "4jkWEaOvycl8",
        "colab_type": "text"
      },
      "source": [
        "## Objetivos\n",
        "Título 2"
      ]
    },
    {
      "cell_type": "markdown",
      "metadata": {
        "id": "5hzxq6OSyfgt",
        "colab_type": "text"
      },
      "source": [
        "# Desarrollo del Código"
      ]
    },
    {
      "cell_type": "markdown",
      "metadata": {
        "id": "I_CUKbnGypde",
        "colab_type": "text"
      },
      "source": [
        "## Librerías necesarias"
      ]
    },
    {
      "cell_type": "markdown",
      "metadata": {
        "id": "3y-i6QIgyt0h",
        "colab_type": "text"
      },
      "source": [
        "## Obtención de los datos"
      ]
    }
  ]
}